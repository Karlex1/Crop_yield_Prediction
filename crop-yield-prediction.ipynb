{
 "cells": [
  {
   "cell_type": "code",
   "execution_count": 1,
   "id": "b991b126",
   "metadata": {
    "execution": {
     "iopub.execute_input": "2025-02-24T16:03:41.545805Z",
     "iopub.status.busy": "2025-02-24T16:03:41.545392Z",
     "iopub.status.idle": "2025-02-24T16:03:44.726138Z",
     "shell.execute_reply": "2025-02-24T16:03:44.725216Z"
    },
    "executionInfo": {
     "elapsed": 576,
     "status": "ok",
     "timestamp": 1738300274096,
     "user": {
      "displayName": "Roman Nihal",
      "userId": "01466760799661028565"
     },
     "user_tz": -360
    },
    "id": "hKefio1OrmLz",
    "papermill": {
     "duration": 3.192672,
     "end_time": "2025-02-24T16:03:44.727908",
     "exception": false,
     "start_time": "2025-02-24T16:03:41.535236",
     "status": "completed"
    },
    "tags": []
   },
   "outputs": [],
   "source": [
    "import numpy as np\n",
    "import pandas as pd\n",
    "import matplotlib.pyplot as plt\n",
    "import seaborn as sns"
   ]
  },
  {
   "cell_type": "code",
   "execution_count": 2,
   "id": "3e0d0402",
   "metadata": {
    "execution": {
     "iopub.execute_input": "2025-02-24T16:03:44.745989Z",
     "iopub.status.busy": "2025-02-24T16:03:44.745499Z",
     "iopub.status.idle": "2025-02-24T16:03:52.230127Z",
     "shell.execute_reply": "2025-02-24T16:03:52.229045Z"
    },
    "papermill": {
     "duration": 7.496451,
     "end_time": "2025-02-24T16:03:52.233095",
     "exception": false,
     "start_time": "2025-02-24T16:03:44.736644",
     "status": "completed"
    },
    "tags": []
   },
   "outputs": [
    {
     "name": "stdout",
     "output_type": "stream",
     "text": [
      "Name: numpy\r\n",
      "Version: 1.26.4\r\n",
      "Summary: Fundamental package for array computing in Python\r\n",
      "Home-page: https://www.numpy.org\r\n",
      "Author: Travis E. Oliphant et al.\r\n",
      "Author-email: \r\n",
      "License: BSD-3-Clause\r\n",
      "Location: /usr/local/lib/python3.10/dist-packages\r\n",
      "Requires: mkl, mkl-service, mkl_fft, mkl_random, mkl_umath, tbb4py\r\n",
      "Required-by: accelerate, albucore, albumentations, arviz, astropy, autograd, bayesian-optimization, bigframes, blis, blosc2, bokeh, Boruta, Bottleneck, bqplot, Cartopy, catboost, category_encoders, cesium, chex, clarabel, cmdstanpy, contourpy, cudf-cu12, cufflinks, cuml-cu12, cupy-cuda12x, cuvs-cu12, cvxpy, dask-cuda, dask-cudf-cu12, datascience, datasets, datashader, db-dtypes, deap, diffusers, dipy, dopamine_rl, easyocr, eli5, fasttext, featuretools, flax, folium, fury, geemap, gensim, geopandas, gym, gymnasium, h5py, hep_ml, holoviews, hyperopt, ibis-framework, ImageHash, imageio, imbalanced-learn, imgaug, ipympl, jax, jaxlib, kaggle-environments, keras, keras-core, keras-hub, langchain, langid, libpysal, librosa, lightgbm, lime, matplotlib, matplotlib-venn, missingno, mizani, mkl-fft, mkl-random, mkl-umath, ml-dtypes, mlcrate, mlxtend, mne, moviepy, music21, nibabel, nilearn, numba, numexpr, nx-cugraph-cu12, onnx, opencv-contrib-python, opencv-python, opencv-python-headless, optax, optuna, orbax-checkpoint, osqp, pandas, pandas-gbq, pandas-stubs, pandasql, patsy, peft, pettingzoo, phik, plotly-express, plotnine, prophet, pyarrow, pycocotools, pydegensac, pyemd, pyerfa, pyLDAvis, pylibraft-cu12, pymc, pymc3, pyogrio, pytensor, python-louvain, PyUpSet, PyWavelets, qdldl, rmm-cu12, scikit-image, scikit-learn, scikit-learn-intelex, scikit-optimize, scikit-surprise, scipy, scs, seaborn, shap, shapely, Shimmy, sklearn-pandas, soxr, spacy, stable-baselines3, stanio, statsmodels, stumpy, tables, tensorboard, tensorflow, tensorflow-datasets, tensorflow-hub, tensorflow-probability, tensorflow_decision_forests, tensorstore, Theano, Theano-PyMC, thinc, tifffile, torchmetrics, torchtune, torchvision, TPOT, transformers, treelite, trx-python, tsfresh, ucx-py-cu12, ucxx-cu12, visions, wavio, woodwork, wordcloud, xarray, xarray-einstats, xgboost, ydata-profiling, ydf, yellowbrick, yfinance\r\n",
      "Name: pandas\r\n",
      "Version: 2.2.2\r\n",
      "Summary: Powerful data structures for data analysis, time series, and statistics\r\n",
      "Home-page: https://pandas.pydata.org\r\n",
      "Author: \r\n",
      "Author-email: The Pandas Development Team <pandas-dev@python.org>\r\n",
      "License: BSD 3-Clause License\r\n",
      "        \r\n",
      "        Copyright (c) 2008-2011, AQR Capital Management, LLC, Lambda Foundry, Inc. and PyData Development Team\r\n",
      "        All rights reserved.\r\n",
      "        \r\n",
      "        Copyright (c) 2011-2023, Open source contributors.\r\n",
      "        \r\n",
      "        Redistribution and use in source and binary forms, with or without\r\n",
      "        modification, are permitted provided that the following conditions are met:\r\n",
      "        \r\n",
      "        * Redistributions of source code must retain the above copyright notice, this\r\n",
      "          list of conditions and the following disclaimer.\r\n",
      "        \r\n",
      "        * Redistributions in binary form must reproduce the above copyright notice,\r\n",
      "          this list of conditions and the following disclaimer in the documentation\r\n",
      "          and/or other materials provided with the distribution.\r\n",
      "        \r\n",
      "        * Neither the name of the copyright holder nor the names of its\r\n",
      "          contributors may be used to endorse or promote products derived from\r\n",
      "          this software without specific prior written permission.\r\n",
      "        \r\n",
      "        THIS SOFTWARE IS PROVIDED BY THE COPYRIGHT HOLDERS AND CONTRIBUTORS \"AS IS\"\r\n",
      "        AND ANY EXPRESS OR IMPLIED WARRANTIES, INCLUDING, BUT NOT LIMITED TO, THE\r\n",
      "        IMPLIED WARRANTIES OF MERCHANTABILITY AND FITNESS FOR A PARTICULAR PURPOSE ARE\r\n",
      "        DISCLAIMED. IN NO EVENT SHALL THE COPYRIGHT HOLDER OR CONTRIBUTORS BE LIABLE\r\n",
      "        FOR ANY DIRECT, INDIRECT, INCIDENTAL, SPECIAL, EXEMPLARY, OR CONSEQUENTIAL\r\n",
      "        DAMAGES (INCLUDING, BUT NOT LIMITED TO, PROCUREMENT OF SUBSTITUTE GOODS OR\r\n",
      "        SERVICES; LOSS OF USE, DATA, OR PROFITS; OR BUSINESS INTERRUPTION) HOWEVER\r\n",
      "        CAUSED AND ON ANY THEORY OF LIABILITY, WHETHER IN CONTRACT, STRICT LIABILITY,\r\n",
      "        OR TORT (INCLUDING NEGLIGENCE OR OTHERWISE) ARISING IN ANY WAY OUT OF THE USE\r\n",
      "        OF THIS SOFTWARE, EVEN IF ADVISED OF THE POSSIBILITY OF SUCH DAMAGE.\r\n",
      "Location: /usr/local/lib/python3.10/dist-packages\r\n",
      "Requires: numpy, python-dateutil, pytz, tzdata\r\n",
      "Required-by: arviz, bigframes, bigquery-magics, bokeh, bq_helper, bqplot, catboost, category_encoders, cesium, cmdstanpy, cudf-cu12, cufflinks, dask-cuda, dask-cudf-cu12, dask-expr, datascience, datasets, datashader, db-dtypes, dopamine_rl, fastai, featuretools, geemap, geopandas, google-colab, gspread-dataframe, hep_ml, holoviews, ibis-framework, libpysal, mizani, mlcrate, mlxtend, nilearn, pandas-datareader, pandas-gbq, pandasql, panel, phik, plotly-express, plotnine, prophet, pyLDAvis, pymc, pymc3, PyUpSet, qgrid, seaborn, shap, sklearn-pandas, stable-baselines3, statsmodels, tensorflow_decision_forests, TPOT, tsfresh, vega-datasets, visions, woodwork, xarray, ydata-profiling, yfinance\r\n"
     ]
    }
   ],
   "source": [
    "!pip show numpy --version\n",
    "!pip show pandas --version"
   ]
  },
  {
   "cell_type": "code",
   "execution_count": 3,
   "id": "d972b472",
   "metadata": {
    "execution": {
     "iopub.execute_input": "2025-02-24T16:03:52.253877Z",
     "iopub.status.busy": "2025-02-24T16:03:52.253480Z",
     "iopub.status.idle": "2025-02-24T16:03:52.375247Z",
     "shell.execute_reply": "2025-02-24T16:03:52.374062Z"
    },
    "executionInfo": {
     "elapsed": 1,
     "status": "ok",
     "timestamp": 1738300274096,
     "user": {
      "displayName": "Roman Nihal",
      "userId": "01466760799661028565"
     },
     "user_tz": -360
    },
    "id": "0eNyTbPItoEV",
    "papermill": {
     "duration": 0.133546,
     "end_time": "2025-02-24T16:03:52.377234",
     "exception": false,
     "start_time": "2025-02-24T16:03:52.243688",
     "status": "completed"
    },
    "tags": []
   },
   "outputs": [],
   "source": [
    "df = pd.read_csv('/kaggle/input/crop-yield-prediction-dataset/yield_df.csv')\n",
    "temp_df = pd.read_csv('/kaggle/input/crop-yield-prediction-dataset/temp.csv')"
   ]
  },
  {
   "cell_type": "code",
   "execution_count": 4,
   "id": "62af57fc",
   "metadata": {
    "execution": {
     "iopub.execute_input": "2025-02-24T16:03:52.396858Z",
     "iopub.status.busy": "2025-02-24T16:03:52.396507Z",
     "iopub.status.idle": "2025-02-24T16:03:52.431126Z",
     "shell.execute_reply": "2025-02-24T16:03:52.429745Z"
    },
    "papermill": {
     "duration": 0.046704,
     "end_time": "2025-02-24T16:03:52.432846",
     "exception": false,
     "start_time": "2025-02-24T16:03:52.386142",
     "status": "completed"
    },
    "tags": []
   },
   "outputs": [
    {
     "name": "stderr",
     "output_type": "stream",
     "text": [
      "/usr/local/lib/python3.10/dist-packages/pandas/io/formats/format.py:1458: RuntimeWarning: invalid value encountered in greater\n",
      "  has_large_values = (abs_vals > 1e6).any()\n",
      "/usr/local/lib/python3.10/dist-packages/pandas/io/formats/format.py:1459: RuntimeWarning: invalid value encountered in less\n",
      "  has_small_values = ((abs_vals < 10 ** (-self.digits)) & (abs_vals > 0)).any()\n",
      "/usr/local/lib/python3.10/dist-packages/pandas/io/formats/format.py:1459: RuntimeWarning: invalid value encountered in greater\n",
      "  has_small_values = ((abs_vals < 10 ** (-self.digits)) & (abs_vals > 0)).any()\n"
     ]
    },
    {
     "data": {
      "text/html": [
       "<div>\n",
       "<style scoped>\n",
       "    .dataframe tbody tr th:only-of-type {\n",
       "        vertical-align: middle;\n",
       "    }\n",
       "\n",
       "    .dataframe tbody tr th {\n",
       "        vertical-align: top;\n",
       "    }\n",
       "\n",
       "    .dataframe thead th {\n",
       "        text-align: right;\n",
       "    }\n",
       "</style>\n",
       "<table border=\"1\" class=\"dataframe\">\n",
       "  <thead>\n",
       "    <tr style=\"text-align: right;\">\n",
       "      <th></th>\n",
       "      <th>year</th>\n",
       "      <th>country</th>\n",
       "      <th>avg_temp</th>\n",
       "    </tr>\n",
       "  </thead>\n",
       "  <tbody>\n",
       "    <tr>\n",
       "      <th>0</th>\n",
       "      <td>1849</td>\n",
       "      <td>Côte D'Ivoire</td>\n",
       "      <td>25.58</td>\n",
       "    </tr>\n",
       "    <tr>\n",
       "      <th>1</th>\n",
       "      <td>1850</td>\n",
       "      <td>Côte D'Ivoire</td>\n",
       "      <td>25.52</td>\n",
       "    </tr>\n",
       "    <tr>\n",
       "      <th>2</th>\n",
       "      <td>1851</td>\n",
       "      <td>Côte D'Ivoire</td>\n",
       "      <td>25.67</td>\n",
       "    </tr>\n",
       "    <tr>\n",
       "      <th>3</th>\n",
       "      <td>1852</td>\n",
       "      <td>Côte D'Ivoire</td>\n",
       "      <td>NaN</td>\n",
       "    </tr>\n",
       "    <tr>\n",
       "      <th>4</th>\n",
       "      <td>1853</td>\n",
       "      <td>Côte D'Ivoire</td>\n",
       "      <td>NaN</td>\n",
       "    </tr>\n",
       "  </tbody>\n",
       "</table>\n",
       "</div>"
      ],
      "text/plain": [
       "   year        country  avg_temp\n",
       "0  1849  Côte D'Ivoire     25.58\n",
       "1  1850  Côte D'Ivoire     25.52\n",
       "2  1851  Côte D'Ivoire     25.67\n",
       "3  1852  Côte D'Ivoire       NaN\n",
       "4  1853  Côte D'Ivoire       NaN"
      ]
     },
     "execution_count": 4,
     "metadata": {},
     "output_type": "execute_result"
    }
   ],
   "source": [
    "temp_df.head()"
   ]
  },
  {
   "cell_type": "code",
   "execution_count": 5,
   "id": "c7f045d8",
   "metadata": {
    "execution": {
     "iopub.execute_input": "2025-02-24T16:03:52.451456Z",
     "iopub.status.busy": "2025-02-24T16:03:52.451072Z",
     "iopub.status.idle": "2025-02-24T16:03:52.473579Z",
     "shell.execute_reply": "2025-02-24T16:03:52.472160Z"
    },
    "executionInfo": {
     "elapsed": 583,
     "status": "ok",
     "timestamp": 1738300274678,
     "user": {
      "displayName": "Roman Nihal",
      "userId": "01466760799661028565"
     },
     "user_tz": -360
    },
    "id": "OqHYVCu0tsby",
    "outputId": "8999cc73-63d3-4a96-d560-aeed5b9656ee",
    "papermill": {
     "duration": 0.03344,
     "end_time": "2025-02-24T16:03:52.475001",
     "exception": false,
     "start_time": "2025-02-24T16:03:52.441561",
     "status": "completed"
    },
    "tags": []
   },
   "outputs": [
    {
     "data": {
      "text/html": [
       "<div>\n",
       "<style scoped>\n",
       "    .dataframe tbody tr th:only-of-type {\n",
       "        vertical-align: middle;\n",
       "    }\n",
       "\n",
       "    .dataframe tbody tr th {\n",
       "        vertical-align: top;\n",
       "    }\n",
       "\n",
       "    .dataframe thead th {\n",
       "        text-align: right;\n",
       "    }\n",
       "</style>\n",
       "<table border=\"1\" class=\"dataframe\">\n",
       "  <thead>\n",
       "    <tr style=\"text-align: right;\">\n",
       "      <th></th>\n",
       "      <th>Unnamed: 0</th>\n",
       "      <th>Area</th>\n",
       "      <th>Item</th>\n",
       "      <th>Year</th>\n",
       "      <th>hg/ha_yield</th>\n",
       "      <th>average_rain_fall_mm_per_year</th>\n",
       "      <th>pesticides_tonnes</th>\n",
       "      <th>avg_temp</th>\n",
       "    </tr>\n",
       "  </thead>\n",
       "  <tbody>\n",
       "    <tr>\n",
       "      <th>20184</th>\n",
       "      <td>20184</td>\n",
       "      <td>Mexico</td>\n",
       "      <td>Wheat</td>\n",
       "      <td>2009</td>\n",
       "      <td>49688</td>\n",
       "      <td>758.0</td>\n",
       "      <td>61690.08</td>\n",
       "      <td>21.76</td>\n",
       "    </tr>\n",
       "    <tr>\n",
       "      <th>16689</th>\n",
       "      <td>16689</td>\n",
       "      <td>Japan</td>\n",
       "      <td>Maize</td>\n",
       "      <td>2002</td>\n",
       "      <td>24615</td>\n",
       "      <td>1668.0</td>\n",
       "      <td>70262.54</td>\n",
       "      <td>16.00</td>\n",
       "    </tr>\n",
       "    <tr>\n",
       "      <th>4838</th>\n",
       "      <td>4838</td>\n",
       "      <td>Bulgaria</td>\n",
       "      <td>Potatoes</td>\n",
       "      <td>1993</td>\n",
       "      <td>90807</td>\n",
       "      <td>608.0</td>\n",
       "      <td>3777.25</td>\n",
       "      <td>9.00</td>\n",
       "    </tr>\n",
       "    <tr>\n",
       "      <th>12020</th>\n",
       "      <td>12020</td>\n",
       "      <td>India</td>\n",
       "      <td>Soybeans</td>\n",
       "      <td>1998</td>\n",
       "      <td>11001</td>\n",
       "      <td>1083.0</td>\n",
       "      <td>49157.00</td>\n",
       "      <td>25.91</td>\n",
       "    </tr>\n",
       "    <tr>\n",
       "      <th>4244</th>\n",
       "      <td>4244</td>\n",
       "      <td>Brazil</td>\n",
       "      <td>Maize</td>\n",
       "      <td>2008</td>\n",
       "      <td>40800</td>\n",
       "      <td>1761.0</td>\n",
       "      <td>312637.00</td>\n",
       "      <td>25.96</td>\n",
       "    </tr>\n",
       "  </tbody>\n",
       "</table>\n",
       "</div>"
      ],
      "text/plain": [
       "       Unnamed: 0      Area      Item  Year  hg/ha_yield  \\\n",
       "20184       20184    Mexico     Wheat  2009        49688   \n",
       "16689       16689     Japan     Maize  2002        24615   \n",
       "4838         4838  Bulgaria  Potatoes  1993        90807   \n",
       "12020       12020     India  Soybeans  1998        11001   \n",
       "4244         4244    Brazil     Maize  2008        40800   \n",
       "\n",
       "       average_rain_fall_mm_per_year  pesticides_tonnes  avg_temp  \n",
       "20184                          758.0           61690.08     21.76  \n",
       "16689                         1668.0           70262.54     16.00  \n",
       "4838                           608.0            3777.25      9.00  \n",
       "12020                         1083.0           49157.00     25.91  \n",
       "4244                          1761.0          312637.00     25.96  "
      ]
     },
     "execution_count": 5,
     "metadata": {},
     "output_type": "execute_result"
    }
   ],
   "source": [
    "df.sample(5)"
   ]
  },
  {
   "cell_type": "markdown",
   "id": "24beeee0",
   "metadata": {
    "id": "XRFumstaw_r4",
    "papermill": {
     "duration": 0.008288,
     "end_time": "2025-02-24T16:03:52.492544",
     "exception": false,
     "start_time": "2025-02-24T16:03:52.484256",
     "status": "completed"
    },
    "tags": []
   },
   "source": [
    "## 1. Identification Columns\n",
    "### A. Yield Measurement (Output)\n",
    "**hg/ha_yield:** The total crop yield, measured in hectograms per hectare (hg/ha). This represents how much of a specific crop was harvested per unit area.\n",
    "\n",
    "---\n",
    "\n",
    "## 2. Feature Columns (Factors Affecting Crop Yield)\n",
    "\n",
    "These columns represent different **agricultural and environmental factors** that influence crop production.\n",
    "\n",
    "### A. Area:\n",
    "The name of the country where the data was recorded (e.g., Albania, Zimbabwe).\n",
    "\n",
    "### B. Item:\n",
    "The type of **crop** (e.g., Maize, Potatoes, Wheat, Rice).\n",
    "\n",
    "### C. Year:\n",
    "The year in which the data was collected.\n",
    "\n",
    "\n",
    "### D. Environmental Factors\n",
    "These features represent natural environmental conditions affecting agriculture.\n",
    "\n",
    "- **average_rain_fall_mm_per_year**: The **average yearly rainfall** in **millimeters (mm)**.  \n",
    "  - Higher rainfall generally supports better crop growth, but excessive rainfall may lead to flooding.\n",
    "  - Example: Albania consistently has **1485 mm of rainfall** in the dataset.\n",
    "\n",
    "- **avg_temp**: The **average temperature** for that year (likely in **degrees Celsius**).\n",
    "  - Temperature affects crop growth, **with extreme heat or cold reducing yields**.\n",
    "\n",
    "### E. Agricultural Practices\n",
    "These columns represent human-driven agricultural interventions.\n",
    "\n",
    "- **pesticides_tonnes**: The **total amount of pesticides used**, measured in **tonnes**.\n",
    "  - Higher pesticide use may indicate pest control measures but could also raise environmental concerns.\n",
    "  - Example: Albania's pesticide usage increased from **121 tonnes (1990) to 502.86 tonnes (1999)**.\n",
    "\n",
    "---\n",
    "\n",
    "## 3. Key Insights\n",
    "- **Yield Trends**: The `hg/ha_yield` column helps analyze **how crop productivity changes over time**.\n",
    "- **Impact of Rainfall & Temperature**: Countries with **higher rainfall** and **moderate temperatures** generally have **higher yields**.\n",
    "- **Pesticide Usage**: Increased pesticide use could indicate **efforts to combat pests or boost yield**.\n"
   ]
  },
  {
   "cell_type": "code",
   "execution_count": 6,
   "id": "d217d864",
   "metadata": {
    "execution": {
     "iopub.execute_input": "2025-02-24T16:03:52.512430Z",
     "iopub.status.busy": "2025-02-24T16:03:52.512050Z",
     "iopub.status.idle": "2025-02-24T16:03:52.520620Z",
     "shell.execute_reply": "2025-02-24T16:03:52.519315Z"
    },
    "executionInfo": {
     "elapsed": 10,
     "status": "ok",
     "timestamp": 1738300274678,
     "user": {
      "displayName": "Roman Nihal",
      "userId": "01466760799661028565"
     },
     "user_tz": -360
    },
    "id": "EP87-6dttuKb",
    "papermill": {
     "duration": 0.021493,
     "end_time": "2025-02-24T16:03:52.522641",
     "exception": false,
     "start_time": "2025-02-24T16:03:52.501148",
     "status": "completed"
    },
    "tags": []
   },
   "outputs": [],
   "source": [
    "df.drop(columns=['Unnamed: 0'], inplace=True)"
   ]
  },
  {
   "cell_type": "code",
   "execution_count": 7,
   "id": "ee3e6d02",
   "metadata": {
    "execution": {
     "iopub.execute_input": "2025-02-24T16:03:52.541915Z",
     "iopub.status.busy": "2025-02-24T16:03:52.541509Z",
     "iopub.status.idle": "2025-02-24T16:03:52.552335Z",
     "shell.execute_reply": "2025-02-24T16:03:52.550706Z"
    },
    "executionInfo": {
     "elapsed": 10,
     "status": "ok",
     "timestamp": 1738300274678,
     "user": {
      "displayName": "Roman Nihal",
      "userId": "01466760799661028565"
     },
     "user_tz": -360
    },
    "id": "W1fACJfTxOev",
    "outputId": "f8d77de3-89b9-4dff-8c38-8ec4729afb44",
    "papermill": {
     "duration": 0.02258,
     "end_time": "2025-02-24T16:03:52.554428",
     "exception": false,
     "start_time": "2025-02-24T16:03:52.531848",
     "status": "completed"
    },
    "tags": []
   },
   "outputs": [
    {
     "data": {
      "text/html": [
       "<div>\n",
       "<style scoped>\n",
       "    .dataframe tbody tr th:only-of-type {\n",
       "        vertical-align: middle;\n",
       "    }\n",
       "\n",
       "    .dataframe tbody tr th {\n",
       "        vertical-align: top;\n",
       "    }\n",
       "\n",
       "    .dataframe thead th {\n",
       "        text-align: right;\n",
       "    }\n",
       "</style>\n",
       "<table border=\"1\" class=\"dataframe\">\n",
       "  <thead>\n",
       "    <tr style=\"text-align: right;\">\n",
       "      <th></th>\n",
       "      <th>Area</th>\n",
       "      <th>Item</th>\n",
       "      <th>Year</th>\n",
       "      <th>hg/ha_yield</th>\n",
       "      <th>average_rain_fall_mm_per_year</th>\n",
       "      <th>pesticides_tonnes</th>\n",
       "      <th>avg_temp</th>\n",
       "    </tr>\n",
       "  </thead>\n",
       "  <tbody>\n",
       "    <tr>\n",
       "      <th>0</th>\n",
       "      <td>Albania</td>\n",
       "      <td>Maize</td>\n",
       "      <td>1990</td>\n",
       "      <td>36613</td>\n",
       "      <td>1485.0</td>\n",
       "      <td>121.0</td>\n",
       "      <td>16.37</td>\n",
       "    </tr>\n",
       "    <tr>\n",
       "      <th>1</th>\n",
       "      <td>Albania</td>\n",
       "      <td>Potatoes</td>\n",
       "      <td>1990</td>\n",
       "      <td>66667</td>\n",
       "      <td>1485.0</td>\n",
       "      <td>121.0</td>\n",
       "      <td>16.37</td>\n",
       "    </tr>\n",
       "    <tr>\n",
       "      <th>2</th>\n",
       "      <td>Albania</td>\n",
       "      <td>Rice, paddy</td>\n",
       "      <td>1990</td>\n",
       "      <td>23333</td>\n",
       "      <td>1485.0</td>\n",
       "      <td>121.0</td>\n",
       "      <td>16.37</td>\n",
       "    </tr>\n",
       "    <tr>\n",
       "      <th>3</th>\n",
       "      <td>Albania</td>\n",
       "      <td>Sorghum</td>\n",
       "      <td>1990</td>\n",
       "      <td>12500</td>\n",
       "      <td>1485.0</td>\n",
       "      <td>121.0</td>\n",
       "      <td>16.37</td>\n",
       "    </tr>\n",
       "    <tr>\n",
       "      <th>4</th>\n",
       "      <td>Albania</td>\n",
       "      <td>Soybeans</td>\n",
       "      <td>1990</td>\n",
       "      <td>7000</td>\n",
       "      <td>1485.0</td>\n",
       "      <td>121.0</td>\n",
       "      <td>16.37</td>\n",
       "    </tr>\n",
       "  </tbody>\n",
       "</table>\n",
       "</div>"
      ],
      "text/plain": [
       "      Area         Item  Year  hg/ha_yield  average_rain_fall_mm_per_year  \\\n",
       "0  Albania        Maize  1990        36613                         1485.0   \n",
       "1  Albania     Potatoes  1990        66667                         1485.0   \n",
       "2  Albania  Rice, paddy  1990        23333                         1485.0   \n",
       "3  Albania      Sorghum  1990        12500                         1485.0   \n",
       "4  Albania     Soybeans  1990         7000                         1485.0   \n",
       "\n",
       "   pesticides_tonnes  avg_temp  \n",
       "0              121.0     16.37  \n",
       "1              121.0     16.37  \n",
       "2              121.0     16.37  \n",
       "3              121.0     16.37  \n",
       "4              121.0     16.37  "
      ]
     },
     "execution_count": 7,
     "metadata": {},
     "output_type": "execute_result"
    }
   ],
   "source": [
    "df.head()"
   ]
  },
  {
   "cell_type": "code",
   "execution_count": 8,
   "id": "36dd6e94",
   "metadata": {
    "execution": {
     "iopub.execute_input": "2025-02-24T16:03:52.576837Z",
     "iopub.status.busy": "2025-02-24T16:03:52.576474Z",
     "iopub.status.idle": "2025-02-24T16:03:52.583027Z",
     "shell.execute_reply": "2025-02-24T16:03:52.581742Z"
    },
    "executionInfo": {
     "elapsed": 9,
     "status": "ok",
     "timestamp": 1738300274678,
     "user": {
      "displayName": "Roman Nihal",
      "userId": "01466760799661028565"
     },
     "user_tz": -360
    },
    "id": "u2hBzDtdxfL5",
    "outputId": "c66eccb9-cc31-4b0f-d498-c2cb76ceb338",
    "papermill": {
     "duration": 0.019517,
     "end_time": "2025-02-24T16:03:52.584960",
     "exception": false,
     "start_time": "2025-02-24T16:03:52.565443",
     "status": "completed"
    },
    "tags": []
   },
   "outputs": [
    {
     "data": {
      "text/plain": [
       "(28242, 7)"
      ]
     },
     "execution_count": 8,
     "metadata": {},
     "output_type": "execute_result"
    }
   ],
   "source": [
    "df.shape"
   ]
  },
  {
   "cell_type": "code",
   "execution_count": 9,
   "id": "fe7bd60e",
   "metadata": {
    "execution": {
     "iopub.execute_input": "2025-02-24T16:03:52.604227Z",
     "iopub.status.busy": "2025-02-24T16:03:52.603902Z",
     "iopub.status.idle": "2025-02-24T16:03:52.616008Z",
     "shell.execute_reply": "2025-02-24T16:03:52.614949Z"
    },
    "executionInfo": {
     "elapsed": 8,
     "status": "ok",
     "timestamp": 1738300274678,
     "user": {
      "displayName": "Roman Nihal",
      "userId": "01466760799661028565"
     },
     "user_tz": -360
    },
    "id": "OYHziscj0LMs",
    "outputId": "1e378841-71e6-4c2b-c087-493fb9939b67",
    "papermill": {
     "duration": 0.02366,
     "end_time": "2025-02-24T16:03:52.617920",
     "exception": false,
     "start_time": "2025-02-24T16:03:52.594260",
     "status": "completed"
    },
    "tags": []
   },
   "outputs": [
    {
     "data": {
      "text/plain": [
       "Area                             0\n",
       "Item                             0\n",
       "Year                             0\n",
       "hg/ha_yield                      0\n",
       "average_rain_fall_mm_per_year    0\n",
       "pesticides_tonnes                0\n",
       "avg_temp                         0\n",
       "dtype: int64"
      ]
     },
     "execution_count": 9,
     "metadata": {},
     "output_type": "execute_result"
    }
   ],
   "source": [
    "df.isnull().sum()"
   ]
  },
  {
   "cell_type": "code",
   "execution_count": 10,
   "id": "e141bc7e",
   "metadata": {
    "execution": {
     "iopub.execute_input": "2025-02-24T16:03:52.639344Z",
     "iopub.status.busy": "2025-02-24T16:03:52.638935Z",
     "iopub.status.idle": "2025-02-24T16:03:52.666156Z",
     "shell.execute_reply": "2025-02-24T16:03:52.664635Z"
    },
    "executionInfo": {
     "elapsed": 8,
     "status": "ok",
     "timestamp": 1738300274678,
     "user": {
      "displayName": "Roman Nihal",
      "userId": "01466760799661028565"
     },
     "user_tz": -360
    },
    "id": "sGhqNOyM0OaV",
    "outputId": "0ba3c5b5-4fea-4cb0-afc7-5ce87397459a",
    "papermill": {
     "duration": 0.040467,
     "end_time": "2025-02-24T16:03:52.667804",
     "exception": false,
     "start_time": "2025-02-24T16:03:52.627337",
     "status": "completed"
    },
    "tags": []
   },
   "outputs": [
    {
     "name": "stdout",
     "output_type": "stream",
     "text": [
      "<class 'pandas.core.frame.DataFrame'>\n",
      "RangeIndex: 28242 entries, 0 to 28241\n",
      "Data columns (total 7 columns):\n",
      " #   Column                         Non-Null Count  Dtype  \n",
      "---  ------                         --------------  -----  \n",
      " 0   Area                           28242 non-null  object \n",
      " 1   Item                           28242 non-null  object \n",
      " 2   Year                           28242 non-null  int64  \n",
      " 3   hg/ha_yield                    28242 non-null  int64  \n",
      " 4   average_rain_fall_mm_per_year  28242 non-null  float64\n",
      " 5   pesticides_tonnes              28242 non-null  float64\n",
      " 6   avg_temp                       28242 non-null  float64\n",
      "dtypes: float64(3), int64(2), object(2)\n",
      "memory usage: 1.5+ MB\n"
     ]
    }
   ],
   "source": [
    "df.info()"
   ]
  },
  {
   "cell_type": "code",
   "execution_count": 11,
   "id": "26dc0024",
   "metadata": {
    "execution": {
     "iopub.execute_input": "2025-02-24T16:03:52.687842Z",
     "iopub.status.busy": "2025-02-24T16:03:52.687408Z",
     "iopub.status.idle": "2025-02-24T16:03:52.698386Z",
     "shell.execute_reply": "2025-02-24T16:03:52.697686Z"
    },
    "executionInfo": {
     "elapsed": 7,
     "status": "ok",
     "timestamp": 1738300274678,
     "user": {
      "displayName": "Roman Nihal",
      "userId": "01466760799661028565"
     },
     "user_tz": -360
    },
    "id": "7Vj2Kz4T0QUw",
    "outputId": "5e6edb20-a335-4170-eab3-a41f8a57ebed",
    "papermill": {
     "duration": 0.022416,
     "end_time": "2025-02-24T16:03:52.699786",
     "exception": false,
     "start_time": "2025-02-24T16:03:52.677370",
     "status": "completed"
    },
    "tags": []
   },
   "outputs": [
    {
     "data": {
      "text/plain": [
       "2310"
      ]
     },
     "execution_count": 11,
     "metadata": {},
     "output_type": "execute_result"
    }
   ],
   "source": [
    "df.duplicated().sum()"
   ]
  },
  {
   "cell_type": "code",
   "execution_count": 12,
   "id": "73ecb1ea",
   "metadata": {
    "execution": {
     "iopub.execute_input": "2025-02-24T16:03:52.719505Z",
     "iopub.status.busy": "2025-02-24T16:03:52.719152Z",
     "iopub.status.idle": "2025-02-24T16:03:52.730598Z",
     "shell.execute_reply": "2025-02-24T16:03:52.729364Z"
    },
    "executionInfo": {
     "elapsed": 7,
     "status": "ok",
     "timestamp": 1738300274678,
     "user": {
      "displayName": "Roman Nihal",
      "userId": "01466760799661028565"
     },
     "user_tz": -360
    },
    "id": "sE3d84FV0X1t",
    "papermill": {
     "duration": 0.023373,
     "end_time": "2025-02-24T16:03:52.732563",
     "exception": false,
     "start_time": "2025-02-24T16:03:52.709190",
     "status": "completed"
    },
    "tags": []
   },
   "outputs": [],
   "source": [
    "df.drop_duplicates(inplace=True)"
   ]
  },
  {
   "cell_type": "code",
   "execution_count": 13,
   "id": "06469ce9",
   "metadata": {
    "execution": {
     "iopub.execute_input": "2025-02-24T16:03:52.752914Z",
     "iopub.status.busy": "2025-02-24T16:03:52.752509Z",
     "iopub.status.idle": "2025-02-24T16:03:52.766530Z",
     "shell.execute_reply": "2025-02-24T16:03:52.765089Z"
    },
    "executionInfo": {
     "elapsed": 7,
     "status": "ok",
     "timestamp": 1738300274678,
     "user": {
      "displayName": "Roman Nihal",
      "userId": "01466760799661028565"
     },
     "user_tz": -360
    },
    "id": "IUcJegIa0bvS",
    "outputId": "332868fc-cbd4-4c5f-f5f3-286f51e665df",
    "papermill": {
     "duration": 0.026146,
     "end_time": "2025-02-24T16:03:52.768548",
     "exception": false,
     "start_time": "2025-02-24T16:03:52.742402",
     "status": "completed"
    },
    "tags": []
   },
   "outputs": [
    {
     "data": {
      "text/plain": [
       "0"
      ]
     },
     "execution_count": 13,
     "metadata": {},
     "output_type": "execute_result"
    }
   ],
   "source": [
    "df.duplicated().sum()"
   ]
  },
  {
   "cell_type": "code",
   "execution_count": 14,
   "id": "a548dfef",
   "metadata": {
    "execution": {
     "iopub.execute_input": "2025-02-24T16:03:52.789746Z",
     "iopub.status.busy": "2025-02-24T16:03:52.789355Z",
     "iopub.status.idle": "2025-02-24T16:03:52.815704Z",
     "shell.execute_reply": "2025-02-24T16:03:52.814540Z"
    },
    "executionInfo": {
     "elapsed": 6,
     "status": "ok",
     "timestamp": 1738300274678,
     "user": {
      "displayName": "Roman Nihal",
      "userId": "01466760799661028565"
     },
     "user_tz": -360
    },
    "id": "wVdpm7xT0d4B",
    "outputId": "6de3205a-f142-4f29-beb7-f2d12caacc01",
    "papermill": {
     "duration": 0.038416,
     "end_time": "2025-02-24T16:03:52.817550",
     "exception": false,
     "start_time": "2025-02-24T16:03:52.779134",
     "status": "completed"
    },
    "tags": []
   },
   "outputs": [
    {
     "data": {
      "text/html": [
       "<div>\n",
       "<style scoped>\n",
       "    .dataframe tbody tr th:only-of-type {\n",
       "        vertical-align: middle;\n",
       "    }\n",
       "\n",
       "    .dataframe tbody tr th {\n",
       "        vertical-align: top;\n",
       "    }\n",
       "\n",
       "    .dataframe thead th {\n",
       "        text-align: right;\n",
       "    }\n",
       "</style>\n",
       "<table border=\"1\" class=\"dataframe\">\n",
       "  <thead>\n",
       "    <tr style=\"text-align: right;\">\n",
       "      <th></th>\n",
       "      <th>Year</th>\n",
       "      <th>hg/ha_yield</th>\n",
       "      <th>average_rain_fall_mm_per_year</th>\n",
       "      <th>pesticides_tonnes</th>\n",
       "      <th>avg_temp</th>\n",
       "    </tr>\n",
       "  </thead>\n",
       "  <tbody>\n",
       "    <tr>\n",
       "      <th>count</th>\n",
       "      <td>25932.000000</td>\n",
       "      <td>25932.000000</td>\n",
       "      <td>25932.000000</td>\n",
       "      <td>25932.000000</td>\n",
       "      <td>25932.000000</td>\n",
       "    </tr>\n",
       "    <tr>\n",
       "      <th>mean</th>\n",
       "      <td>2001.556455</td>\n",
       "      <td>76978.132925</td>\n",
       "      <td>1146.836688</td>\n",
       "      <td>34782.573241</td>\n",
       "      <td>20.422251</td>\n",
       "    </tr>\n",
       "    <tr>\n",
       "      <th>std</th>\n",
       "      <td>7.055924</td>\n",
       "      <td>84647.605552</td>\n",
       "      <td>717.391098</td>\n",
       "      <td>57228.568244</td>\n",
       "      <td>6.439402</td>\n",
       "    </tr>\n",
       "    <tr>\n",
       "      <th>min</th>\n",
       "      <td>1990.000000</td>\n",
       "      <td>50.000000</td>\n",
       "      <td>51.000000</td>\n",
       "      <td>0.040000</td>\n",
       "      <td>1.300000</td>\n",
       "    </tr>\n",
       "    <tr>\n",
       "      <th>25%</th>\n",
       "      <td>1995.000000</td>\n",
       "      <td>19996.000000</td>\n",
       "      <td>593.000000</td>\n",
       "      <td>1597.000000</td>\n",
       "      <td>16.580000</td>\n",
       "    </tr>\n",
       "    <tr>\n",
       "      <th>50%</th>\n",
       "      <td>2001.000000</td>\n",
       "      <td>39530.000000</td>\n",
       "      <td>1083.000000</td>\n",
       "      <td>15373.000000</td>\n",
       "      <td>21.420000</td>\n",
       "    </tr>\n",
       "    <tr>\n",
       "      <th>75%</th>\n",
       "      <td>2008.000000</td>\n",
       "      <td>104168.000000</td>\n",
       "      <td>1668.000000</td>\n",
       "      <td>45620.000000</td>\n",
       "      <td>26.060000</td>\n",
       "    </tr>\n",
       "    <tr>\n",
       "      <th>max</th>\n",
       "      <td>2013.000000</td>\n",
       "      <td>501412.000000</td>\n",
       "      <td>3240.000000</td>\n",
       "      <td>367778.000000</td>\n",
       "      <td>30.650000</td>\n",
       "    </tr>\n",
       "  </tbody>\n",
       "</table>\n",
       "</div>"
      ],
      "text/plain": [
       "               Year    hg/ha_yield  average_rain_fall_mm_per_year  \\\n",
       "count  25932.000000   25932.000000                   25932.000000   \n",
       "mean    2001.556455   76978.132925                    1146.836688   \n",
       "std        7.055924   84647.605552                     717.391098   \n",
       "min     1990.000000      50.000000                      51.000000   \n",
       "25%     1995.000000   19996.000000                     593.000000   \n",
       "50%     2001.000000   39530.000000                    1083.000000   \n",
       "75%     2008.000000  104168.000000                    1668.000000   \n",
       "max     2013.000000  501412.000000                    3240.000000   \n",
       "\n",
       "       pesticides_tonnes      avg_temp  \n",
       "count       25932.000000  25932.000000  \n",
       "mean        34782.573241     20.422251  \n",
       "std         57228.568244      6.439402  \n",
       "min             0.040000      1.300000  \n",
       "25%          1597.000000     16.580000  \n",
       "50%         15373.000000     21.420000  \n",
       "75%         45620.000000     26.060000  \n",
       "max        367778.000000     30.650000  "
      ]
     },
     "execution_count": 14,
     "metadata": {},
     "output_type": "execute_result"
    }
   ],
   "source": [
    "df.describe()"
   ]
  },
  {
   "cell_type": "code",
   "execution_count": 15,
   "id": "1655c62d",
   "metadata": {
    "execution": {
     "iopub.execute_input": "2025-02-24T16:03:52.838390Z",
     "iopub.status.busy": "2025-02-24T16:03:52.838028Z",
     "iopub.status.idle": "2025-02-24T16:03:52.852975Z",
     "shell.execute_reply": "2025-02-24T16:03:52.852081Z"
    },
    "executionInfo": {
     "elapsed": 6,
     "status": "ok",
     "timestamp": 1738300274678,
     "user": {
      "displayName": "Roman Nihal",
      "userId": "01466760799661028565"
     },
     "user_tz": -360
    },
    "id": "thwsEvic0fuT",
    "outputId": "dca1364d-3a13-4763-f43c-c28ede183cab",
    "papermill": {
     "duration": 0.027622,
     "end_time": "2025-02-24T16:03:52.855032",
     "exception": false,
     "start_time": "2025-02-24T16:03:52.827410",
     "status": "completed"
    },
    "tags": []
   },
   "outputs": [
    {
     "data": {
      "text/html": [
       "<div>\n",
       "<style scoped>\n",
       "    .dataframe tbody tr th:only-of-type {\n",
       "        vertical-align: middle;\n",
       "    }\n",
       "\n",
       "    .dataframe tbody tr th {\n",
       "        vertical-align: top;\n",
       "    }\n",
       "\n",
       "    .dataframe thead th {\n",
       "        text-align: right;\n",
       "    }\n",
       "</style>\n",
       "<table border=\"1\" class=\"dataframe\">\n",
       "  <thead>\n",
       "    <tr style=\"text-align: right;\">\n",
       "      <th></th>\n",
       "      <th>Year</th>\n",
       "      <th>hg/ha_yield</th>\n",
       "      <th>average_rain_fall_mm_per_year</th>\n",
       "      <th>pesticides_tonnes</th>\n",
       "      <th>avg_temp</th>\n",
       "    </tr>\n",
       "  </thead>\n",
       "  <tbody>\n",
       "    <tr>\n",
       "      <th>Year</th>\n",
       "      <td>1.000000</td>\n",
       "      <td>0.091327</td>\n",
       "      <td>-0.006423</td>\n",
       "      <td>0.135127</td>\n",
       "      <td>0.013701</td>\n",
       "    </tr>\n",
       "    <tr>\n",
       "      <th>hg/ha_yield</th>\n",
       "      <td>0.091327</td>\n",
       "      <td>1.000000</td>\n",
       "      <td>-0.004067</td>\n",
       "      <td>0.065523</td>\n",
       "      <td>-0.110400</td>\n",
       "    </tr>\n",
       "    <tr>\n",
       "      <th>average_rain_fall_mm_per_year</th>\n",
       "      <td>-0.006423</td>\n",
       "      <td>-0.004067</td>\n",
       "      <td>1.000000</td>\n",
       "      <td>0.161483</td>\n",
       "      <td>0.333694</td>\n",
       "    </tr>\n",
       "    <tr>\n",
       "      <th>pesticides_tonnes</th>\n",
       "      <td>0.135127</td>\n",
       "      <td>0.065523</td>\n",
       "      <td>0.161483</td>\n",
       "      <td>1.000000</td>\n",
       "      <td>0.045577</td>\n",
       "    </tr>\n",
       "    <tr>\n",
       "      <th>avg_temp</th>\n",
       "      <td>0.013701</td>\n",
       "      <td>-0.110400</td>\n",
       "      <td>0.333694</td>\n",
       "      <td>0.045577</td>\n",
       "      <td>1.000000</td>\n",
       "    </tr>\n",
       "  </tbody>\n",
       "</table>\n",
       "</div>"
      ],
      "text/plain": [
       "                                   Year  hg/ha_yield  \\\n",
       "Year                           1.000000     0.091327   \n",
       "hg/ha_yield                    0.091327     1.000000   \n",
       "average_rain_fall_mm_per_year -0.006423    -0.004067   \n",
       "pesticides_tonnes              0.135127     0.065523   \n",
       "avg_temp                       0.013701    -0.110400   \n",
       "\n",
       "                               average_rain_fall_mm_per_year  \\\n",
       "Year                                               -0.006423   \n",
       "hg/ha_yield                                        -0.004067   \n",
       "average_rain_fall_mm_per_year                       1.000000   \n",
       "pesticides_tonnes                                   0.161483   \n",
       "avg_temp                                            0.333694   \n",
       "\n",
       "                               pesticides_tonnes  avg_temp  \n",
       "Year                                    0.135127  0.013701  \n",
       "hg/ha_yield                             0.065523 -0.110400  \n",
       "average_rain_fall_mm_per_year           0.161483  0.333694  \n",
       "pesticides_tonnes                       1.000000  0.045577  \n",
       "avg_temp                                0.045577  1.000000  "
      ]
     },
     "execution_count": 15,
     "metadata": {},
     "output_type": "execute_result"
    }
   ],
   "source": [
    "numerical_df = df.select_dtypes(include=np.number)\n",
    "numerical_df.corr()"
   ]
  },
  {
   "cell_type": "markdown",
   "id": "6cb74592",
   "metadata": {
    "id": "b74GPtMS1hFn",
    "papermill": {
     "duration": 0.009241,
     "end_time": "2025-02-24T16:03:52.874337",
     "exception": false,
     "start_time": "2025-02-24T16:03:52.865096",
     "status": "completed"
    },
    "tags": []
   },
   "source": [
    "## The \"average_rain_fall_mm_per_year\" column have some rows that are float and some that are neumerical strings. So we need to remove those rows containing neumerical strings values."
   ]
  },
  {
   "cell_type": "code",
   "execution_count": 16,
   "id": "f5e8676a",
   "metadata": {
    "execution": {
     "iopub.execute_input": "2025-02-24T16:03:52.896733Z",
     "iopub.status.busy": "2025-02-24T16:03:52.896281Z",
     "iopub.status.idle": "2025-02-24T16:03:52.900990Z",
     "shell.execute_reply": "2025-02-24T16:03:52.899719Z"
    },
    "executionInfo": {
     "elapsed": 596,
     "status": "ok",
     "timestamp": 1738300275269,
     "user": {
      "displayName": "Roman Nihal",
      "userId": "01466760799661028565"
     },
     "user_tz": -360
    },
    "id": "0RvLrnHf0tuF",
    "papermill": {
     "duration": 0.017389,
     "end_time": "2025-02-24T16:03:52.902946",
     "exception": false,
     "start_time": "2025-02-24T16:03:52.885557",
     "status": "completed"
    },
    "tags": []
   },
   "outputs": [],
   "source": [
    "def floatOrStr(val):\n",
    "  try:\n",
    "    float(val)\n",
    "    return False\n",
    "  except ValueError:\n",
    "    return True"
   ]
  },
  {
   "cell_type": "code",
   "execution_count": 17,
   "id": "7f001f01",
   "metadata": {
    "execution": {
     "iopub.execute_input": "2025-02-24T16:03:52.923542Z",
     "iopub.status.busy": "2025-02-24T16:03:52.923148Z",
     "iopub.status.idle": "2025-02-24T16:03:52.933190Z",
     "shell.execute_reply": "2025-02-24T16:03:52.931838Z"
    },
    "executionInfo": {
     "elapsed": 2,
     "status": "ok",
     "timestamp": 1738300275269,
     "user": {
      "displayName": "Roman Nihal",
      "userId": "01466760799661028565"
     },
     "user_tz": -360
    },
    "id": "VCEPl63y1yBw",
    "papermill": {
     "duration": 0.022697,
     "end_time": "2025-02-24T16:03:52.935333",
     "exception": false,
     "start_time": "2025-02-24T16:03:52.912636",
     "status": "completed"
    },
    "tags": []
   },
   "outputs": [],
   "source": [
    "to_drop = df[df['average_rain_fall_mm_per_year'].apply(floatOrStr)].index"
   ]
  },
  {
   "cell_type": "code",
   "execution_count": 18,
   "id": "21a9c32e",
   "metadata": {
    "execution": {
     "iopub.execute_input": "2025-02-24T16:03:52.955865Z",
     "iopub.status.busy": "2025-02-24T16:03:52.955466Z",
     "iopub.status.idle": "2025-02-24T16:03:52.962524Z",
     "shell.execute_reply": "2025-02-24T16:03:52.961018Z"
    },
    "executionInfo": {
     "elapsed": 2,
     "status": "ok",
     "timestamp": 1738300275270,
     "user": {
      "displayName": "Roman Nihal",
      "userId": "01466760799661028565"
     },
     "user_tz": -360
    },
    "id": "xmNvyCbE2cpI",
    "papermill": {
     "duration": 0.019589,
     "end_time": "2025-02-24T16:03:52.964688",
     "exception": false,
     "start_time": "2025-02-24T16:03:52.945099",
     "status": "completed"
    },
    "tags": []
   },
   "outputs": [],
   "source": [
    "df = df.drop(to_drop)"
   ]
  },
  {
   "cell_type": "code",
   "execution_count": 19,
   "id": "7bf279be",
   "metadata": {
    "execution": {
     "iopub.execute_input": "2025-02-24T16:03:52.985814Z",
     "iopub.status.busy": "2025-02-24T16:03:52.985380Z",
     "iopub.status.idle": "2025-02-24T16:03:52.997969Z",
     "shell.execute_reply": "2025-02-24T16:03:52.996584Z"
    },
    "executionInfo": {
     "elapsed": 2,
     "status": "ok",
     "timestamp": 1738300275270,
     "user": {
      "displayName": "Roman Nihal",
      "userId": "01466760799661028565"
     },
     "user_tz": -360
    },
    "id": "9BNG3Fsk2ehh",
    "outputId": "5a028dc5-e4c4-43a9-b97d-f2ff3f9fdff7",
    "papermill": {
     "duration": 0.02489,
     "end_time": "2025-02-24T16:03:52.999790",
     "exception": false,
     "start_time": "2025-02-24T16:03:52.974900",
     "status": "completed"
    },
    "tags": []
   },
   "outputs": [
    {
     "name": "stdout",
     "output_type": "stream",
     "text": [
      "<class 'pandas.core.frame.DataFrame'>\n",
      "Index: 25932 entries, 0 to 28241\n",
      "Data columns (total 7 columns):\n",
      " #   Column                         Non-Null Count  Dtype  \n",
      "---  ------                         --------------  -----  \n",
      " 0   Area                           25932 non-null  object \n",
      " 1   Item                           25932 non-null  object \n",
      " 2   Year                           25932 non-null  int64  \n",
      " 3   hg/ha_yield                    25932 non-null  int64  \n",
      " 4   average_rain_fall_mm_per_year  25932 non-null  float64\n",
      " 5   pesticides_tonnes              25932 non-null  float64\n",
      " 6   avg_temp                       25932 non-null  float64\n",
      "dtypes: float64(3), int64(2), object(2)\n",
      "memory usage: 1.6+ MB\n"
     ]
    }
   ],
   "source": [
    "df.info()"
   ]
  },
  {
   "cell_type": "markdown",
   "id": "5aa15516",
   "metadata": {
    "id": "LPbEHn3g26Yg",
    "papermill": {
     "duration": 0.009219,
     "end_time": "2025-02-24T16:03:53.020297",
     "exception": false,
     "start_time": "2025-02-24T16:03:53.011078",
     "status": "completed"
    },
    "tags": []
   },
   "source": [
    "## Ploting frequency of each country"
   ]
  },
  {
   "cell_type": "code",
   "execution_count": 20,
   "id": "ffc11499",
   "metadata": {
    "execution": {
     "iopub.execute_input": "2025-02-24T16:03:53.040476Z",
     "iopub.status.busy": "2025-02-24T16:03:53.040137Z",
     "iopub.status.idle": "2025-02-24T16:03:53.913241Z",
     "shell.execute_reply": "2025-02-24T16:03:53.911965Z"
    },
    "executionInfo": {
     "elapsed": 2038,
     "status": "ok",
     "timestamp": 1738300277306,
     "user": {
      "displayName": "Roman Nihal",
      "userId": "01466760799661028565"
     },
     "user_tz": -360
    },
    "id": "9OGsd0xf2lDb",
    "outputId": "649adacd-bfb0-435f-9850-3f4d71c6541a",
    "papermill": {
     "duration": 0.885526,
     "end_time": "2025-02-24T16:03:53.915242",
     "exception": false,
     "start_time": "2025-02-24T16:03:53.029716",
     "status": "completed"
    },
    "tags": []
   },
   "outputs": [
    {
     "data": {
      "text/plain": [
       "<Axes: xlabel='count', ylabel='Area'>"
      ]
     },
     "execution_count": 20,
     "metadata": {},
     "output_type": "execute_result"
    },
    {
     "data": {
      "image/png": "[encoded data removed]",
      "text/plain": [
       "<Figure size 1000x2000 with 1 Axes>"
      ]
     },
     "metadata": {},
     "output_type": "display_data"
    }
   ],
   "source": [
    "plt.figure(figsize=(10, 20))\n",
    "sns.countplot(data=df, y='Area')"
   ]
  },
  {
   "cell_type": "markdown",
   "id": "ec3ca7e5",
   "metadata": {
    "id": "WoaI6MBZMtZ4",
    "papermill": {
     "duration": 0.012047,
     "end_time": "2025-02-24T16:03:53.939461",
     "exception": false,
     "start_time": "2025-02-24T16:03:53.927414",
     "status": "completed"
    },
    "tags": []
   },
   "source": [
    "## Ploting yield per country"
   ]
  },
  {
   "cell_type": "code",
   "execution_count": 21,
   "id": "b1c4100e",
   "metadata": {
    "execution": {
     "iopub.execute_input": "2025-02-24T16:03:53.963799Z",
     "iopub.status.busy": "2025-02-24T16:03:53.963439Z",
     "iopub.status.idle": "2025-02-24T16:03:53.972197Z",
     "shell.execute_reply": "2025-02-24T16:03:53.971024Z"
    },
    "executionInfo": {
     "elapsed": 3,
     "status": "ok",
     "timestamp": 1738300277306,
     "user": {
      "displayName": "Roman Nihal",
      "userId": "01466760799661028565"
     },
     "user_tz": -360
    },
    "id": "oyJIeVdaOluQ",
    "outputId": "118ab93e-80b2-4d30-d7c5-60ffa32ee0f4",
    "papermill": {
     "duration": 0.02269,
     "end_time": "2025-02-24T16:03:53.973916",
     "exception": false,
     "start_time": "2025-02-24T16:03:53.951226",
     "status": "completed"
    },
    "tags": []
   },
   "outputs": [
    {
     "data": {
      "text/plain": [
       "Area\n",
       "Albania            5711536\n",
       "Algeria            6711464\n",
       "Angola             5722563\n",
       "Argentina         32864032\n",
       "Armenia            4524100\n",
       "                    ...   \n",
       "Ukraine            5496901\n",
       "United Kingdom    44335992\n",
       "Uruguay            9539820\n",
       "Zambia             7254311\n",
       "Zimbabwe           7408629\n",
       "Name: hg/ha_yield, Length: 101, dtype: int64"
      ]
     },
     "execution_count": 21,
     "metadata": {},
     "output_type": "execute_result"
    }
   ],
   "source": [
    "yield_per_country = df.groupby('Area')['hg/ha_yield'].sum()\n",
    "yield_per_country"
   ]
  },
  {
   "cell_type": "code",
   "execution_count": 22,
   "id": "c8822d4b",
   "metadata": {
    "execution": {
     "iopub.execute_input": "2025-02-24T16:03:53.999400Z",
     "iopub.status.busy": "2025-02-24T16:03:53.999073Z",
     "iopub.status.idle": "2025-02-24T16:03:54.902106Z",
     "shell.execute_reply": "2025-02-24T16:03:54.901140Z"
    },
    "executionInfo": {
     "elapsed": 1724,
     "status": "ok",
     "timestamp": 1738300279028,
     "user": {
      "displayName": "Roman Nihal",
      "userId": "01466760799661028565"
     },
     "user_tz": -360
    },
    "id": "nYebNFFLQxfP",
    "outputId": "a3343a8e-4844-4783-d472-af8f06bea191",
    "papermill": {
     "duration": 0.917443,
     "end_time": "2025-02-24T16:03:54.903516",
     "exception": false,
     "start_time": "2025-02-24T16:03:53.986073",
     "status": "completed"
    },
    "tags": []
   },
   "outputs": [
    {
     "data": {
      "text/plain": [
       "<Axes: xlabel='hg/ha_yield', ylabel='Area'>"
      ]
     },
     "execution_count": 22,
     "metadata": {},
     "output_type": "execute_result"
    },
    {
     "data": {
      "image/png": "[encoded data removed]",
      "text/plain": [
       "<Figure size 1000x2000 with 1 Axes>"
      ]
     },
     "metadata": {},
     "output_type": "display_data"
    }
   ],
   "source": [
    "plt.figure(figsize=(10, 20))\n",
    "sns.barplot(x=yield_per_country, y=yield_per_country.index)"
   ]
  },
  {
   "cell_type": "markdown",
   "id": "21354580",
   "metadata": {
    "id": "YEsKjtxZRw3x",
    "papermill": {
     "duration": 0.014363,
     "end_time": "2025-02-24T16:03:54.932360",
     "exception": false,
     "start_time": "2025-02-24T16:03:54.917997",
     "status": "completed"
    },
    "tags": []
   },
   "source": [
    "## Ploting frequency of each item/crop"
   ]
  },
  {
   "cell_type": "code",
   "execution_count": 23,
   "id": "590db7a8",
   "metadata": {
    "execution": {
     "iopub.execute_input": "2025-02-24T16:03:54.964459Z",
     "iopub.status.busy": "2025-02-24T16:03:54.964133Z",
     "iopub.status.idle": "2025-02-24T16:03:55.145455Z",
     "shell.execute_reply": "2025-02-24T16:03:55.144318Z"
    },
    "executionInfo": {
     "elapsed": 748,
     "status": "ok",
     "timestamp": 1738300279774,
     "user": {
      "displayName": "Roman Nihal",
      "userId": "01466760799661028565"
     },
     "user_tz": -360
    },
    "id": "el6_044MReYQ",
    "outputId": "216bd527-e81b-4502-d5d6-41824f3326cb",
    "papermill": {
     "duration": 0.199724,
     "end_time": "2025-02-24T16:03:55.147551",
     "exception": false,
     "start_time": "2025-02-24T16:03:54.947827",
     "status": "completed"
    },
    "tags": []
   },
   "outputs": [
    {
     "data": {
      "text/plain": [
       "<Axes: xlabel='count', ylabel='Item'>"
      ]
     },
     "execution_count": 23,
     "metadata": {},
     "output_type": "execute_result"
    },
    {
     "data": {
      "image/png": "[encoded data removed]",
      "text/plain": [
       "<Figure size 640x480 with 1 Axes>"
      ]
     },
     "metadata": {},
     "output_type": "display_data"
    }
   ],
   "source": [
    "sns.countplot(data=df, y='Item')"
   ]
  },
  {
   "cell_type": "markdown",
   "id": "784b7086",
   "metadata": {
    "id": "W-BFZvHiSbUJ",
    "papermill": {
     "duration": 0.014906,
     "end_time": "2025-02-24T16:03:55.177922",
     "exception": false,
     "start_time": "2025-02-24T16:03:55.163016",
     "status": "completed"
    },
    "tags": []
   },
   "source": [
    "## Ploting yield per item/crop"
   ]
  },
  {
   "cell_type": "code",
   "execution_count": 24,
   "id": "49c1f3e4",
   "metadata": {
    "execution": {
     "iopub.execute_input": "2025-02-24T16:03:55.208551Z",
     "iopub.status.busy": "2025-02-24T16:03:55.208232Z",
     "iopub.status.idle": "2025-02-24T16:03:55.217588Z",
     "shell.execute_reply": "2025-02-24T16:03:55.216440Z"
    },
    "executionInfo": {
     "elapsed": 10,
     "status": "ok",
     "timestamp": 1738300279775,
     "user": {
      "displayName": "Roman Nihal",
      "userId": "01466760799661028565"
     },
     "user_tz": -360
    },
    "id": "eQ8_3KW4RoKf",
    "outputId": "c365fac2-29ef-433c-af4c-e49d7fd68bf5",
    "papermill": {
     "duration": 0.026724,
     "end_time": "2025-02-24T16:03:55.219609",
     "exception": false,
     "start_time": "2025-02-24T16:03:55.192885",
     "status": "completed"
    },
    "tags": []
   },
   "outputs": [
    {
     "data": {
      "text/plain": [
       "Item\n",
       "Cassava                 275132269\n",
       "Maize                   142020761\n",
       "Plantains and others     58958974\n",
       "Potatoes                785921609\n",
       "Rice, paddy             127646024\n",
       "Sorghum                  52906376\n",
       "Soybeans                 49957039\n",
       "Sweet potatoes          310269345\n",
       "Wheat                   106614786\n",
       "Yams                     86769760\n",
       "Name: hg/ha_yield, dtype: int64"
      ]
     },
     "execution_count": 24,
     "metadata": {},
     "output_type": "execute_result"
    }
   ],
   "source": [
    "yield_per_item = df.groupby('Item')['hg/ha_yield'].sum()\n",
    "yield_per_item"
   ]
  },
  {
   "cell_type": "code",
   "execution_count": 25,
   "id": "6a4e5079",
   "metadata": {
    "execution": {
     "iopub.execute_input": "2025-02-24T16:03:55.251321Z",
     "iopub.status.busy": "2025-02-24T16:03:55.250971Z",
     "iopub.status.idle": "2025-02-24T16:03:55.428731Z",
     "shell.execute_reply": "2025-02-24T16:03:55.427476Z"
    },
    "executionInfo": {
     "elapsed": 10,
     "status": "ok",
     "timestamp": 1738300279775,
     "user": {
      "displayName": "Roman Nihal",
      "userId": "01466760799661028565"
     },
     "user_tz": -360
    },
    "id": "SbKC4vdUSnah",
    "outputId": "368b6ced-f59c-4086-8244-4d781897b578",
    "papermill": {
     "duration": 0.194643,
     "end_time": "2025-02-24T16:03:55.430116",
     "exception": false,
     "start_time": "2025-02-24T16:03:55.235473",
     "status": "completed"
    },
    "tags": []
   },
   "outputs": [
    {
     "data": {
      "text/plain": [
       "<Axes: xlabel='hg/ha_yield', ylabel='Item'>"
      ]
     },
     "execution_count": 25,
     "metadata": {},
     "output_type": "execute_result"
    },
    {
     "data": {
      "image/png": "[encoded data removed]",
      "text/plain": [
       "<Figure size 640x480 with 1 Axes>"
      ]
     },
     "metadata": {},
     "output_type": "display_data"
    }
   ],
   "source": [
    "sns.barplot(x=yield_per_item, y=yield_per_item.index)"
   ]
  },
  {
   "cell_type": "code",
   "execution_count": 26,
   "id": "8473fba4",
   "metadata": {
    "execution": {
     "iopub.execute_input": "2025-02-24T16:03:55.461863Z",
     "iopub.status.busy": "2025-02-24T16:03:55.461499Z",
     "iopub.status.idle": "2025-02-24T16:03:55.471616Z",
     "shell.execute_reply": "2025-02-24T16:03:55.470425Z"
    },
    "executionInfo": {
     "elapsed": 9,
     "status": "ok",
     "timestamp": 1738300279775,
     "user": {
      "displayName": "Roman Nihal",
      "userId": "01466760799661028565"
     },
     "user_tz": -360
    },
    "id": "GqhrFyOCUsmz",
    "outputId": "48c1f224-0e73-4575-b1ad-0a0320fc750e",
    "papermill": {
     "duration": 0.028214,
     "end_time": "2025-02-24T16:03:55.473497",
     "exception": false,
     "start_time": "2025-02-24T16:03:55.445283",
     "status": "completed"
    },
    "tags": []
   },
   "outputs": [
    {
     "data": {
      "text/html": [
       "<div>\n",
       "<style scoped>\n",
       "    .dataframe tbody tr th:only-of-type {\n",
       "        vertical-align: middle;\n",
       "    }\n",
       "\n",
       "    .dataframe tbody tr th {\n",
       "        vertical-align: top;\n",
       "    }\n",
       "\n",
       "    .dataframe thead th {\n",
       "        text-align: right;\n",
       "    }\n",
       "</style>\n",
       "<table border=\"1\" class=\"dataframe\">\n",
       "  <thead>\n",
       "    <tr style=\"text-align: right;\">\n",
       "      <th></th>\n",
       "      <th>Area</th>\n",
       "      <th>Item</th>\n",
       "      <th>Year</th>\n",
       "      <th>hg/ha_yield</th>\n",
       "      <th>average_rain_fall_mm_per_year</th>\n",
       "      <th>pesticides_tonnes</th>\n",
       "      <th>avg_temp</th>\n",
       "    </tr>\n",
       "  </thead>\n",
       "  <tbody>\n",
       "    <tr>\n",
       "      <th>7536</th>\n",
       "      <td>Ecuador</td>\n",
       "      <td>Wheat</td>\n",
       "      <td>1992</td>\n",
       "      <td>5911</td>\n",
       "      <td>2274.0</td>\n",
       "      <td>2012.0</td>\n",
       "      <td>21.94</td>\n",
       "    </tr>\n",
       "  </tbody>\n",
       "</table>\n",
       "</div>"
      ],
      "text/plain": [
       "         Area   Item  Year  hg/ha_yield  average_rain_fall_mm_per_year  \\\n",
       "7536  Ecuador  Wheat  1992         5911                         2274.0   \n",
       "\n",
       "      pesticides_tonnes  avg_temp  \n",
       "7536             2012.0     21.94  "
      ]
     },
     "execution_count": 26,
     "metadata": {},
     "output_type": "execute_result"
    }
   ],
   "source": [
    "df.sample(1)"
   ]
  },
  {
   "cell_type": "code",
   "execution_count": 27,
   "id": "1cef7b42",
   "metadata": {
    "execution": {
     "iopub.execute_input": "2025-02-24T16:03:55.505597Z",
     "iopub.status.busy": "2025-02-24T16:03:55.505272Z",
     "iopub.status.idle": "2025-02-24T16:03:55.515499Z",
     "shell.execute_reply": "2025-02-24T16:03:55.514420Z"
    },
    "papermill": {
     "duration": 0.027797,
     "end_time": "2025-02-24T16:03:55.516972",
     "exception": false,
     "start_time": "2025-02-24T16:03:55.489175",
     "status": "completed"
    },
    "tags": []
   },
   "outputs": [
    {
     "data": {
      "text/plain": [
       "Area                             3384\n",
       "Item                             3384\n",
       "Year                             3384\n",
       "hg/ha_yield                      3384\n",
       "average_rain_fall_mm_per_year    3384\n",
       "pesticides_tonnes                3384\n",
       "avg_temp                         3384\n",
       "dtype: int64"
      ]
     },
     "execution_count": 27,
     "metadata": {},
     "output_type": "execute_result"
    }
   ],
   "source": [
    "df[df['Area']=='India'].count()"
   ]
  },
  {
   "cell_type": "code",
   "execution_count": 28,
   "id": "81a56755",
   "metadata": {
    "execution": {
     "iopub.execute_input": "2025-02-24T16:03:55.548397Z",
     "iopub.status.busy": "2025-02-24T16:03:55.548080Z",
     "iopub.status.idle": "2025-02-24T16:03:55.554131Z",
     "shell.execute_reply": "2025-02-24T16:03:55.552768Z"
    },
    "executionInfo": {
     "elapsed": 8,
     "status": "ok",
     "timestamp": 1738300279775,
     "user": {
      "displayName": "Roman Nihal",
      "userId": "01466760799661028565"
     },
     "user_tz": -360
    },
    "id": "VOJchsYtSxCL",
    "papermill": {
     "duration": 0.023484,
     "end_time": "2025-02-24T16:03:55.555613",
     "exception": false,
     "start_time": "2025-02-24T16:03:55.532129",
     "status": "completed"
    },
    "tags": []
   },
   "outputs": [],
   "source": [
    "col = ['Year',\t'average_rain_fall_mm_per_year',\t'pesticides_tonnes',\t'avg_temp', 'Area',\t'Item',\t'hg/ha_yield']\n",
    "df = df[col]"
   ]
  },
  {
   "cell_type": "code",
   "execution_count": 29,
   "id": "19a066f0",
   "metadata": {
    "execution": {
     "iopub.execute_input": "2025-02-24T16:03:55.588968Z",
     "iopub.status.busy": "2025-02-24T16:03:55.588632Z",
     "iopub.status.idle": "2025-02-24T16:03:55.599050Z",
     "shell.execute_reply": "2025-02-24T16:03:55.597598Z"
    },
    "executionInfo": {
     "elapsed": 8,
     "status": "ok",
     "timestamp": 1738300279775,
     "user": {
      "displayName": "Roman Nihal",
      "userId": "01466760799661028565"
     },
     "user_tz": -360
    },
    "id": "DeHTfKQqU4pa",
    "outputId": "facf0d42-64b2-49ad-ccd5-841e585134f8",
    "papermill": {
     "duration": 0.028779,
     "end_time": "2025-02-24T16:03:55.600925",
     "exception": false,
     "start_time": "2025-02-24T16:03:55.572146",
     "status": "completed"
    },
    "tags": []
   },
   "outputs": [
    {
     "data": {
      "text/html": [
       "<div>\n",
       "<style scoped>\n",
       "    .dataframe tbody tr th:only-of-type {\n",
       "        vertical-align: middle;\n",
       "    }\n",
       "\n",
       "    .dataframe tbody tr th {\n",
       "        vertical-align: top;\n",
       "    }\n",
       "\n",
       "    .dataframe thead th {\n",
       "        text-align: right;\n",
       "    }\n",
       "</style>\n",
       "<table border=\"1\" class=\"dataframe\">\n",
       "  <thead>\n",
       "    <tr style=\"text-align: right;\">\n",
       "      <th></th>\n",
       "      <th>Year</th>\n",
       "      <th>average_rain_fall_mm_per_year</th>\n",
       "      <th>pesticides_tonnes</th>\n",
       "      <th>avg_temp</th>\n",
       "      <th>Area</th>\n",
       "      <th>Item</th>\n",
       "      <th>hg/ha_yield</th>\n",
       "    </tr>\n",
       "  </thead>\n",
       "  <tbody>\n",
       "    <tr>\n",
       "      <th>8832</th>\n",
       "      <td>2004</td>\n",
       "      <td>867.0</td>\n",
       "      <td>76099.0</td>\n",
       "      <td>11.34</td>\n",
       "      <td>France</td>\n",
       "      <td>Potatoes</td>\n",
       "      <td>454162</td>\n",
       "    </tr>\n",
       "  </tbody>\n",
       "</table>\n",
       "</div>"
      ],
      "text/plain": [
       "      Year  average_rain_fall_mm_per_year  pesticides_tonnes  avg_temp  \\\n",
       "8832  2004                          867.0            76099.0     11.34   \n",
       "\n",
       "        Area      Item  hg/ha_yield  \n",
       "8832  France  Potatoes       454162  "
      ]
     },
     "execution_count": 29,
     "metadata": {},
     "output_type": "execute_result"
    }
   ],
   "source": [
    "df.sample(1)"
   ]
  },
  {
   "cell_type": "code",
   "execution_count": 30,
   "id": "8671ee9c",
   "metadata": {
    "execution": {
     "iopub.execute_input": "2025-02-24T16:03:55.633336Z",
     "iopub.status.busy": "2025-02-24T16:03:55.632993Z",
     "iopub.status.idle": "2025-02-24T16:03:55.638707Z",
     "shell.execute_reply": "2025-02-24T16:03:55.637548Z"
    },
    "executionInfo": {
     "elapsed": 8,
     "status": "ok",
     "timestamp": 1738300279775,
     "user": {
      "displayName": "Roman Nihal",
      "userId": "01466760799661028565"
     },
     "user_tz": -360
    },
    "id": "nhrYm5B3WNDq",
    "papermill": {
     "duration": 0.023563,
     "end_time": "2025-02-24T16:03:55.640246",
     "exception": false,
     "start_time": "2025-02-24T16:03:55.616683",
     "status": "completed"
    },
    "tags": []
   },
   "outputs": [],
   "source": [
    "X = df.iloc[:, :-1]#contains all column except last one\n",
    "y = df.iloc[:, -1]#contains only last column"
   ]
  },
  {
   "cell_type": "code",
   "execution_count": 31,
   "id": "3d2f8cb2",
   "metadata": {
    "execution": {
     "iopub.execute_input": "2025-02-24T16:03:55.673820Z",
     "iopub.status.busy": "2025-02-24T16:03:55.673462Z",
     "iopub.status.idle": "2025-02-24T16:03:56.112546Z",
     "shell.execute_reply": "2025-02-24T16:03:56.111552Z"
    },
    "executionInfo": {
     "elapsed": 8,
     "status": "ok",
     "timestamp": 1738300279775,
     "user": {
      "displayName": "Roman Nihal",
      "userId": "01466760799661028565"
     },
     "user_tz": -360
    },
    "id": "D6HmjCgAWQSn",
    "papermill": {
     "duration": 0.458396,
     "end_time": "2025-02-24T16:03:56.114446",
     "exception": false,
     "start_time": "2025-02-24T16:03:55.656050",
     "status": "completed"
    },
    "tags": []
   },
   "outputs": [],
   "source": [
    "from sklearn.model_selection import train_test_split\n",
    "X_train, X_test, y_train, y_test = train_test_split(X, y, test_size=0.2, random_state=42)"
   ]
  },
  {
   "cell_type": "markdown",
   "id": "25074e8a",
   "metadata": {
    "id": "c1I5OnAlWzZy",
    "papermill": {
     "duration": 0.016432,
     "end_time": "2025-02-24T16:03:56.146490",
     "exception": false,
     "start_time": "2025-02-24T16:03:56.130058",
     "status": "completed"
    },
    "tags": []
   },
   "source": [
    "Column 'Area' and 'Item' are categorical so we need to convert them. because the column's value doesn't have any order like A,B,C, we need to use one hot encoding.\n",
    "\n",
    "Also we need to do scaling. So, we will use a technnique called 'solumn transformer' so that we can do both simultaniously"
   ]
  },
  {
   "cell_type": "code",
   "execution_count": 32,
   "id": "02a14791",
   "metadata": {
    "execution": {
     "iopub.execute_input": "2025-02-24T16:03:56.180736Z",
     "iopub.status.busy": "2025-02-24T16:03:56.180347Z",
     "iopub.status.idle": "2025-02-24T16:03:56.208114Z",
     "shell.execute_reply": "2025-02-24T16:03:56.207177Z"
    },
    "executionInfo": {
     "elapsed": 8,
     "status": "ok",
     "timestamp": 1738300279775,
     "user": {
      "displayName": "Roman Nihal",
      "userId": "01466760799661028565"
     },
     "user_tz": -360
    },
    "id": "Voy86WinWt-k",
    "papermill": {
     "duration": 0.046981,
     "end_time": "2025-02-24T16:03:56.209788",
     "exception": false,
     "start_time": "2025-02-24T16:03:56.162807",
     "status": "completed"
    },
    "tags": []
   },
   "outputs": [],
   "source": [
    "from sklearn.preprocessing import OneHotEncoder, StandardScaler\n",
    "from sklearn.compose import ColumnTransformer"
   ]
  },
  {
   "cell_type": "code",
   "execution_count": 33,
   "id": "e3122897",
   "metadata": {
    "execution": {
     "iopub.execute_input": "2025-02-24T16:03:56.243885Z",
     "iopub.status.busy": "2025-02-24T16:03:56.243535Z",
     "iopub.status.idle": "2025-02-24T16:03:56.247904Z",
     "shell.execute_reply": "2025-02-24T16:03:56.246879Z"
    },
    "executionInfo": {
     "elapsed": 8,
     "status": "ok",
     "timestamp": 1738300279775,
     "user": {
      "displayName": "Roman Nihal",
      "userId": "01466760799661028565"
     },
     "user_tz": -360
    },
    "id": "kOMEn1nCX_x7",
    "papermill": {
     "duration": 0.023259,
     "end_time": "2025-02-24T16:03:56.249848",
     "exception": false,
     "start_time": "2025-02-24T16:03:56.226589",
     "status": "completed"
    },
    "tags": []
   },
   "outputs": [],
   "source": [
    "oHE = OneHotEncoder(sparse_output=False, drop='first')\n",
    "scaler = StandardScaler()"
   ]
  },
  {
   "cell_type": "code",
   "execution_count": 34,
   "id": "d0b3e1de",
   "metadata": {
    "execution": {
     "iopub.execute_input": "2025-02-24T16:03:56.283486Z",
     "iopub.status.busy": "2025-02-24T16:03:56.283156Z",
     "iopub.status.idle": "2025-02-24T16:03:56.288214Z",
     "shell.execute_reply": "2025-02-24T16:03:56.286839Z"
    },
    "executionInfo": {
     "elapsed": 8,
     "status": "ok",
     "timestamp": 1738300279775,
     "user": {
      "displayName": "Roman Nihal",
      "userId": "01466760799661028565"
     },
     "user_tz": -360
    },
    "id": "6bSt96QlYZhZ",
    "papermill": {
     "duration": 0.024025,
     "end_time": "2025-02-24T16:03:56.289996",
     "exception": false,
     "start_time": "2025-02-24T16:03:56.265971",
     "status": "completed"
    },
    "tags": []
   },
   "outputs": [],
   "source": [
    "transformer = ColumnTransformer(\n",
    "    transformers=[\n",
    "        ('oneHotEncoder', oHE, [4, 5]),\n",
    "        ('standardScaler', scaler, ['Year', 'average_rain_fall_mm_per_year', 'pesticides_tonnes', 'avg_temp'])\n",
    "    ],\n",
    "    remainder='passthrough'\n",
    ")"
   ]
  },
  {
   "cell_type": "code",
   "execution_count": 35,
   "id": "34e84594",
   "metadata": {
    "execution": {
     "iopub.execute_input": "2025-02-24T16:03:56.323093Z",
     "iopub.status.busy": "2025-02-24T16:03:56.322759Z",
     "iopub.status.idle": "2025-02-24T16:03:56.336401Z",
     "shell.execute_reply": "2025-02-24T16:03:56.334995Z"
    },
    "executionInfo": {
     "elapsed": 7,
     "status": "ok",
     "timestamp": 1738300279775,
     "user": {
      "displayName": "Roman Nihal",
      "userId": "01466760799661028565"
     },
     "user_tz": -360
    },
    "id": "Ok8ZhRX4ZSTs",
    "outputId": "eec19766-3781-4215-918e-2d313fdca75a",
    "papermill": {
     "duration": 0.032384,
     "end_time": "2025-02-24T16:03:56.338150",
     "exception": false,
     "start_time": "2025-02-24T16:03:56.305766",
     "status": "completed"
    },
    "tags": []
   },
   "outputs": [
    {
     "data": {
      "text/html": [
       "<style>#sk-container-id-1 {color: black;background-color: white;}#sk-container-id-1 pre{padding: 0;}#sk-container-id-1 div.sk-toggleable {background-color: white;}#sk-container-id-1 label.sk-toggleable__label {cursor: pointer;display: block;width: 100%;margin-bottom: 0;padding: 0.3em;box-sizing: border-box;text-align: center;}#sk-container-id-1 label.sk-toggleable__label-arrow:before {content: \"▸\";float: left;margin-right: 0.25em;color: #696969;}#sk-container-id-1 label.sk-toggleable__label-arrow:hover:before {color: black;}#sk-container-id-1 div.sk-estimator:hover label.sk-toggleable__label-arrow:before {color: black;}#sk-container-id-1 div.sk-toggleable__content {max-height: 0;max-width: 0;overflow: hidden;text-align: left;background-color: #f0f8ff;}#sk-container-id-1 div.sk-toggleable__content pre {margin: 0.2em;color: black;border-radius: 0.25em;background-color: #f0f8ff;}#sk-container-id-1 input.sk-toggleable__control:checked~div.sk-toggleable__content {max-height: 200px;max-width: 100%;overflow: auto;}#sk-container-id-1 input.sk-toggleable__control:checked~label.sk-toggleable__label-arrow:before {content: \"▾\";}#sk-container-id-1 div.sk-estimator input.sk-toggleable__control:checked~label.sk-toggleable__label {background-color: #d4ebff;}#sk-container-id-1 div.sk-label input.sk-toggleable__control:checked~label.sk-toggleable__label {background-color: #d4ebff;}#sk-container-id-1 input.sk-hidden--visually {border: 0;clip: rect(1px 1px 1px 1px);clip: rect(1px, 1px, 1px, 1px);height: 1px;margin: -1px;overflow: hidden;padding: 0;position: absolute;width: 1px;}#sk-container-id-1 div.sk-estimator {font-family: monospace;background-color: #f0f8ff;border: 1px dotted black;border-radius: 0.25em;box-sizing: border-box;margin-bottom: 0.5em;}#sk-container-id-1 div.sk-estimator:hover {background-color: #d4ebff;}#sk-container-id-1 div.sk-parallel-item::after {content: \"\";width: 100%;border-bottom: 1px solid gray;flex-grow: 1;}#sk-container-id-1 div.sk-label:hover label.sk-toggleable__label {background-color: #d4ebff;}#sk-container-id-1 div.sk-serial::before {content: \"\";position: absolute;border-left: 1px solid gray;box-sizing: border-box;top: 0;bottom: 0;left: 50%;z-index: 0;}#sk-container-id-1 div.sk-serial {display: flex;flex-direction: column;align-items: center;background-color: white;padding-right: 0.2em;padding-left: 0.2em;position: relative;}#sk-container-id-1 div.sk-item {position: relative;z-index: 1;}#sk-container-id-1 div.sk-parallel {display: flex;align-items: stretch;justify-content: center;background-color: white;position: relative;}#sk-container-id-1 div.sk-item::before, #sk-container-id-1 div.sk-parallel-item::before {content: \"\";position: absolute;border-left: 1px solid gray;box-sizing: border-box;top: 0;bottom: 0;left: 50%;z-index: -1;}#sk-container-id-1 div.sk-parallel-item {display: flex;flex-direction: column;z-index: 1;position: relative;background-color: white;}#sk-container-id-1 div.sk-parallel-item:first-child::after {align-self: flex-end;width: 50%;}#sk-container-id-1 div.sk-parallel-item:last-child::after {align-self: flex-start;width: 50%;}#sk-container-id-1 div.sk-parallel-item:only-child::after {width: 0;}#sk-container-id-1 div.sk-dashed-wrapped {border: 1px dashed gray;margin: 0 0.4em 0.5em 0.4em;box-sizing: border-box;padding-bottom: 0.4em;background-color: white;}#sk-container-id-1 div.sk-label label {font-family: monospace;font-weight: bold;display: inline-block;line-height: 1.2em;}#sk-container-id-1 div.sk-label-container {text-align: center;}#sk-container-id-1 div.sk-container {/* jupyter's `normalize.less` sets `[hidden] { display: none; }` but bootstrap.min.css set `[hidden] { display: none !important; }` so we also need the `!important` here to be able to override the default hidden behavior on the sphinx rendered scikit-learn.org. See: https://github.com/scikit-learn/scikit-learn/issues/21755 */display: inline-block !important;position: relative;}#sk-container-id-1 div.sk-text-repr-fallback {display: none;}</style><div id=\"sk-container-id-1\" class=\"sk-top-container\"><div class=\"sk-text-repr-fallback\"><pre>ColumnTransformer(remainder=&#x27;passthrough&#x27;,\n",
       "                  transformers=[(&#x27;oneHotEncoder&#x27;,\n",
       "                                 OneHotEncoder(drop=&#x27;first&#x27;,\n",
       "                                               sparse_output=False),\n",
       "                                 [4, 5]),\n",
       "                                (&#x27;standardScaler&#x27;, StandardScaler(),\n",
       "                                 [&#x27;Year&#x27;, &#x27;average_rain_fall_mm_per_year&#x27;,\n",
       "                                  &#x27;pesticides_tonnes&#x27;, &#x27;avg_temp&#x27;])])</pre><b>In a Jupyter environment, please rerun this cell to show the HTML representation or trust the notebook. <br />On GitHub, the HTML representation is unable to render, please try loading this page with nbviewer.org.</b></div><div class=\"sk-container\" hidden><div class=\"sk-item sk-dashed-wrapped\"><div class=\"sk-label-container\"><div class=\"sk-label sk-toggleable\"><input class=\"sk-toggleable__control sk-hidden--visually\" id=\"sk-estimator-id-1\" type=\"checkbox\" ><label for=\"sk-estimator-id-1\" class=\"sk-toggleable__label sk-toggleable__label-arrow\">ColumnTransformer</label><div class=\"sk-toggleable__content\"><pre>ColumnTransformer(remainder=&#x27;passthrough&#x27;,\n",
       "                  transformers=[(&#x27;oneHotEncoder&#x27;,\n",
       "                                 OneHotEncoder(drop=&#x27;first&#x27;,\n",
       "                                               sparse_output=False),\n",
       "                                 [4, 5]),\n",
       "                                (&#x27;standardScaler&#x27;, StandardScaler(),\n",
       "                                 [&#x27;Year&#x27;, &#x27;average_rain_fall_mm_per_year&#x27;,\n",
       "                                  &#x27;pesticides_tonnes&#x27;, &#x27;avg_temp&#x27;])])</pre></div></div></div><div class=\"sk-parallel\"><div class=\"sk-parallel-item\"><div class=\"sk-item\"><div class=\"sk-label-container\"><div class=\"sk-label sk-toggleable\"><input class=\"sk-toggleable__control sk-hidden--visually\" id=\"sk-estimator-id-2\" type=\"checkbox\" ><label for=\"sk-estimator-id-2\" class=\"sk-toggleable__label sk-toggleable__label-arrow\">oneHotEncoder</label><div class=\"sk-toggleable__content\"><pre>[4, 5]</pre></div></div></div><div class=\"sk-serial\"><div class=\"sk-item\"><div class=\"sk-estimator sk-toggleable\"><input class=\"sk-toggleable__control sk-hidden--visually\" id=\"sk-estimator-id-3\" type=\"checkbox\" ><label for=\"sk-estimator-id-3\" class=\"sk-toggleable__label sk-toggleable__label-arrow\">OneHotEncoder</label><div class=\"sk-toggleable__content\"><pre>OneHotEncoder(drop=&#x27;first&#x27;, sparse_output=False)</pre></div></div></div></div></div></div><div class=\"sk-parallel-item\"><div class=\"sk-item\"><div class=\"sk-label-container\"><div class=\"sk-label sk-toggleable\"><input class=\"sk-toggleable__control sk-hidden--visually\" id=\"sk-estimator-id-4\" type=\"checkbox\" ><label for=\"sk-estimator-id-4\" class=\"sk-toggleable__label sk-toggleable__label-arrow\">standardScaler</label><div class=\"sk-toggleable__content\"><pre>[&#x27;Year&#x27;, &#x27;average_rain_fall_mm_per_year&#x27;, &#x27;pesticides_tonnes&#x27;, &#x27;avg_temp&#x27;]</pre></div></div></div><div class=\"sk-serial\"><div class=\"sk-item\"><div class=\"sk-estimator sk-toggleable\"><input class=\"sk-toggleable__control sk-hidden--visually\" id=\"sk-estimator-id-5\" type=\"checkbox\" ><label for=\"sk-estimator-id-5\" class=\"sk-toggleable__label sk-toggleable__label-arrow\">StandardScaler</label><div class=\"sk-toggleable__content\"><pre>StandardScaler()</pre></div></div></div></div></div></div><div class=\"sk-parallel-item\"><div class=\"sk-item\"><div class=\"sk-label-container\"><div class=\"sk-label sk-toggleable\"><input class=\"sk-toggleable__control sk-hidden--visually\" id=\"sk-estimator-id-6\" type=\"checkbox\" ><label for=\"sk-estimator-id-6\" class=\"sk-toggleable__label sk-toggleable__label-arrow\">remainder</label><div class=\"sk-toggleable__content\"><pre></pre></div></div></div><div class=\"sk-serial\"><div class=\"sk-item\"><div class=\"sk-estimator sk-toggleable\"><input class=\"sk-toggleable__control sk-hidden--visually\" id=\"sk-estimator-id-7\" type=\"checkbox\" ><label for=\"sk-estimator-id-7\" class=\"sk-toggleable__label sk-toggleable__label-arrow\">passthrough</label><div class=\"sk-toggleable__content\"><pre>passthrough</pre></div></div></div></div></div></div></div></div></div></div>"
      ],
      "text/plain": [
       "ColumnTransformer(remainder='passthrough',\n",
       "                  transformers=[('oneHotEncoder',\n",
       "                                 OneHotEncoder(drop='first',\n",
       "                                               sparse_output=False),\n",
       "                                 [4, 5]),\n",
       "                                ('standardScaler', StandardScaler(),\n",
       "                                 ['Year', 'average_rain_fall_mm_per_year',\n",
       "                                  'pesticides_tonnes', 'avg_temp'])])"
      ]
     },
     "execution_count": 35,
     "metadata": {},
     "output_type": "execute_result"
    }
   ],
   "source": [
    "transformer"
   ]
  },
  {
   "cell_type": "code",
   "execution_count": 36,
   "id": "a92a78c3",
   "metadata": {
    "execution": {
     "iopub.execute_input": "2025-02-24T16:03:56.373062Z",
     "iopub.status.busy": "2025-02-24T16:03:56.372622Z",
     "iopub.status.idle": "2025-02-24T16:03:56.451498Z",
     "shell.execute_reply": "2025-02-24T16:03:56.450493Z"
    },
    "executionInfo": {
     "elapsed": 7,
     "status": "ok",
     "timestamp": 1738300279775,
     "user": {
      "displayName": "Roman Nihal",
      "userId": "01466760799661028565"
     },
     "user_tz": -360
    },
    "id": "0ghciJ2jZWtz",
    "papermill": {
     "duration": 0.098432,
     "end_time": "2025-02-24T16:03:56.453325",
     "exception": false,
     "start_time": "2025-02-24T16:03:56.354893",
     "status": "completed"
    },
    "tags": []
   },
   "outputs": [],
   "source": [
    "X_train_transformed = transformer.fit_transform(X_train)\n",
    "X_test_transformed = transformer.transform(X_test)"
   ]
  },
  {
   "cell_type": "code",
   "execution_count": 37,
   "id": "0445aa6e",
   "metadata": {
    "execution": {
     "iopub.execute_input": "2025-02-24T16:03:56.487161Z",
     "iopub.status.busy": "2025-02-24T16:03:56.486759Z",
     "iopub.status.idle": "2025-02-24T16:03:56.827216Z",
     "shell.execute_reply": "2025-02-24T16:03:56.825972Z"
    },
    "executionInfo": {
     "elapsed": 7,
     "status": "ok",
     "timestamp": 1738300279775,
     "user": {
      "displayName": "Roman Nihal",
      "userId": "01466760799661028565"
     },
     "user_tz": -360
    },
    "id": "ZE2XGzO0Z2ZU",
    "papermill": {
     "duration": 0.359289,
     "end_time": "2025-02-24T16:03:56.828999",
     "exception": false,
     "start_time": "2025-02-24T16:03:56.469710",
     "status": "completed"
    },
    "tags": []
   },
   "outputs": [],
   "source": [
    "from sklearn.linear_model import LinearRegression, Lasso, Ridge\n",
    "from sklearn.neighbors import KNeighborsRegressor\n",
    "from sklearn.tree import DecisionTreeRegressor\n",
    "from sklearn.metrics import r2_score, mean_absolute_error, mean_squared_error"
   ]
  },
  {
   "cell_type": "code",
   "execution_count": 38,
   "id": "ed9ceb2a",
   "metadata": {
    "execution": {
     "iopub.execute_input": "2025-02-24T16:03:56.864481Z",
     "iopub.status.busy": "2025-02-24T16:03:56.864118Z",
     "iopub.status.idle": "2025-02-24T16:04:00.285460Z",
     "shell.execute_reply": "2025-02-24T16:04:00.284173Z"
    },
    "executionInfo": {
     "elapsed": 6293,
     "status": "ok",
     "timestamp": 1738300286061,
     "user": {
      "displayName": "Roman Nihal",
      "userId": "01466760799661028565"
     },
     "user_tz": -360
    },
    "id": "egqoblMOaRCz",
    "outputId": "a7e80671-644a-48c1-bf24-5968384e9350",
    "papermill": {
     "duration": 3.440752,
     "end_time": "2025-02-24T16:04:00.287155",
     "exception": false,
     "start_time": "2025-02-24T16:03:56.846403",
     "status": "completed"
    },
    "tags": []
   },
   "outputs": [
    {
     "name": "stdout",
     "output_type": "stream",
     "text": [
      "lr R2 Score: 0.7486555739563263\n",
      "lr MAE: 29919.869710333525\n",
      "lr MSE: 1821717013.872382\n"
     ]
    },
    {
     "name": "stderr",
     "output_type": "stream",
     "text": [
      "/usr/local/lib/python3.10/dist-packages/sklearn/linear_model/_coordinate_descent.py:631: ConvergenceWarning: Objective did not converge. You might want to increase the number of iterations, check the scale of the features or consider increasing regularisation. Duality gap: 4.317e+10, tolerance: 1.482e+10\n",
      "  model = cd_fast.enet_coordinate_descent(\n"
     ]
    },
    {
     "name": "stdout",
     "output_type": "stream",
     "text": [
      "lso R2 Score: 0.7485842229351427\n",
      "lso MAE: 29907.60437071822\n",
      "lso MSE: 1822234158.2996268\n",
      "rdg R2 Score: 0.7485388180308432\n",
      "rdg MAE: 29875.80078127621\n",
      "rdg MSE: 1822563248.0987422\n",
      "knr R2 Score: 0.9823904330581457\n",
      "knr MAE: 4853.78372855215\n",
      "knr MSE: 127632222.4839252\n",
      "dtr R2 Score: 0.9775167921406419\n",
      "dtr MAE: 4129.1451706188545\n",
      "dtr MSE: 162955840.82976672\n"
     ]
    }
   ],
   "source": [
    "models = {\n",
    "    'lr': LinearRegression(),\n",
    "    'lso': Lasso(),\n",
    "    'rdg': Ridge(),\n",
    "    'knr': KNeighborsRegressor(),\n",
    "    'dtr': DecisionTreeRegressor()\n",
    "}\n",
    "\n",
    "for name, model in models.items():\n",
    "    model.fit(X_train_transformed, y_train)\n",
    "    y_pred = model.predict(X_test_transformed)\n",
    "\n",
    "    print(f\"{name} R2 Score: {r2_score(y_test, y_pred)}\")\n",
    "    print(f\"{name} MAE: {mean_absolute_error(y_test, y_pred)}\")\n",
    "    print(f\"{name} MSE: {mean_squared_error(y_test, y_pred)}\")"
   ]
  },
  {
   "cell_type": "code",
   "execution_count": 39,
   "id": "b6461d16",
   "metadata": {
    "execution": {
     "iopub.execute_input": "2025-02-24T16:04:00.321951Z",
     "iopub.status.busy": "2025-02-24T16:04:00.321594Z",
     "iopub.status.idle": "2025-02-24T16:04:00.505649Z",
     "shell.execute_reply": "2025-02-24T16:04:00.504496Z"
    },
    "executionInfo": {
     "elapsed": 444,
     "status": "ok",
     "timestamp": 1738300286504,
     "user": {
      "displayName": "Roman Nihal",
      "userId": "01466760799661028565"
     },
     "user_tz": -360
    },
    "id": "Y_3gK3zLtGaH",
    "papermill": {
     "duration": 0.202838,
     "end_time": "2025-02-24T16:04:00.507292",
     "exception": false,
     "start_time": "2025-02-24T16:04:00.304454",
     "status": "completed"
    },
    "tags": []
   },
   "outputs": [],
   "source": [
    "dtr = DecisionTreeRegressor()\n",
    "dtr.fit(X_train_transformed, y_train)\n",
    "y_pred = dtr.predict(X_test_transformed)"
   ]
  },
  {
   "cell_type": "code",
   "execution_count": 40,
   "id": "4de50add",
   "metadata": {
    "execution": {
     "iopub.execute_input": "2025-02-24T16:04:00.541345Z",
     "iopub.status.busy": "2025-02-24T16:04:00.540988Z",
     "iopub.status.idle": "2025-02-24T16:04:00.545646Z",
     "shell.execute_reply": "2025-02-24T16:04:00.544779Z"
    },
    "executionInfo": {
     "elapsed": 4,
     "status": "ok",
     "timestamp": 1738300286504,
     "user": {
      "displayName": "Roman Nihal",
      "userId": "01466760799661028565"
     },
     "user_tz": -360
    },
    "id": "VUE5g4W6tpP3",
    "papermill": {
     "duration": 0.023539,
     "end_time": "2025-02-24T16:04:00.547356",
     "exception": false,
     "start_time": "2025-02-24T16:04:00.523817",
     "status": "completed"
    },
    "tags": []
   },
   "outputs": [],
   "source": [
    "def prediction(Year, average_rain_fall_mm_per_year, pesticides_tonnes, avg_temp, Area, Item):\n",
    "  input_df = pd.DataFrame({\n",
    "      'Year': [Year],\n",
    "      'average_rain_fall_mm_per_year': [average_rain_fall_mm_per_year],\n",
    "      'pesticides_tonnes': [pesticides_tonnes],\n",
    "      'avg_temp': [avg_temp],\n",
    "      'Area': [Area],\n",
    "      'Item': [Item]\n",
    "  })\n",
    "  input_array_transformed = transformer.transform(input_df)\n",
    "  output = dtr.predict(input_array_transformed)\n",
    "  return output"
   ]
  },
  {
   "cell_type": "code",
   "execution_count": 41,
   "id": "8e16afb5",
   "metadata": {
    "execution": {
     "iopub.execute_input": "2025-02-24T16:04:00.583047Z",
     "iopub.status.busy": "2025-02-24T16:04:00.582727Z",
     "iopub.status.idle": "2025-02-24T16:04:00.594189Z",
     "shell.execute_reply": "2025-02-24T16:04:00.592627Z"
    },
    "executionInfo": {
     "elapsed": 4,
     "status": "ok",
     "timestamp": 1738300286504,
     "user": {
      "displayName": "Roman Nihal",
      "userId": "01466760799661028565"
     },
     "user_tz": -360
    },
    "id": "eyZAcdO9t2Ux",
    "papermill": {
     "duration": 0.032401,
     "end_time": "2025-02-24T16:04:00.596898",
     "exception": false,
     "start_time": "2025-02-24T16:04:00.564497",
     "status": "completed"
    },
    "tags": []
   },
   "outputs": [
    {
     "data": {
      "text/plain": [
       "78479.0"
      ]
     },
     "execution_count": 41,
     "metadata": {},
     "output_type": "execute_result"
    }
   ],
   "source": [
    "Year = \t2002\n",
    "average_rain_fall_mm_per_year = 3240.0\n",
    "pesticides_tonnes = 84023.26\n",
    "avg_temp = 27.77\n",
    "Area = 'Colombia'\n",
    "Item = 'Plantains and others'\n",
    "\n",
    "result = prediction(Year,\taverage_rain_fall_mm_per_year,\tpesticides_tonnes,\tavg_temp,\tArea,\tItem)\n",
    "result[0]"
   ]
  },
  {
   "cell_type": "code",
   "execution_count": 42,
   "id": "364daad7",
   "metadata": {
    "execution": {
     "iopub.execute_input": "2025-02-24T16:04:00.631984Z",
     "iopub.status.busy": "2025-02-24T16:04:00.631624Z",
     "iopub.status.idle": "2025-02-24T16:04:00.642804Z",
     "shell.execute_reply": "2025-02-24T16:04:00.641491Z"
    },
    "executionInfo": {
     "elapsed": 3,
     "status": "ok",
     "timestamp": 1738300286504,
     "user": {
      "displayName": "Roman Nihal",
      "userId": "01466760799661028565"
     },
     "user_tz": -360
    },
    "id": "GNFVwa1GtvJ4",
    "outputId": "b0c7e62f-642e-486f-8dc6-4f4c2685a2ae",
    "papermill": {
     "duration": 0.030621,
     "end_time": "2025-02-24T16:04:00.644646",
     "exception": false,
     "start_time": "2025-02-24T16:04:00.614025",
     "status": "completed"
    },
    "tags": []
   },
   "outputs": [
    {
     "data": {
      "text/html": [
       "<div>\n",
       "<style scoped>\n",
       "    .dataframe tbody tr th:only-of-type {\n",
       "        vertical-align: middle;\n",
       "    }\n",
       "\n",
       "    .dataframe tbody tr th {\n",
       "        vertical-align: top;\n",
       "    }\n",
       "\n",
       "    .dataframe thead th {\n",
       "        text-align: right;\n",
       "    }\n",
       "</style>\n",
       "<table border=\"1\" class=\"dataframe\">\n",
       "  <thead>\n",
       "    <tr style=\"text-align: right;\">\n",
       "      <th></th>\n",
       "      <th>Year</th>\n",
       "      <th>average_rain_fall_mm_per_year</th>\n",
       "      <th>pesticides_tonnes</th>\n",
       "      <th>avg_temp</th>\n",
       "      <th>Area</th>\n",
       "      <th>Item</th>\n",
       "    </tr>\n",
       "  </thead>\n",
       "  <tbody>\n",
       "    <tr>\n",
       "      <th>6527</th>\n",
       "      <td>1990</td>\n",
       "      <td>3240.0</td>\n",
       "      <td>18058.29</td>\n",
       "      <td>27.22</td>\n",
       "      <td>Colombia</td>\n",
       "      <td>Potatoes</td>\n",
       "    </tr>\n",
       "  </tbody>\n",
       "</table>\n",
       "</div>"
      ],
      "text/plain": [
       "      Year  average_rain_fall_mm_per_year  pesticides_tonnes  avg_temp  \\\n",
       "6527  1990                         3240.0           18058.29     27.22   \n",
       "\n",
       "          Area      Item  \n",
       "6527  Colombia  Potatoes  "
      ]
     },
     "execution_count": 42,
     "metadata": {},
     "output_type": "execute_result"
    }
   ],
   "source": [
    "X_train.sample(1)"
   ]
  },
  {
   "cell_type": "code",
   "execution_count": 43,
   "id": "cd271907",
   "metadata": {
    "execution": {
     "iopub.execute_input": "2025-02-24T16:04:00.679398Z",
     "iopub.status.busy": "2025-02-24T16:04:00.679037Z",
     "iopub.status.idle": "2025-02-24T16:04:01.254330Z",
     "shell.execute_reply": "2025-02-24T16:04:01.252910Z"
    },
    "executionInfo": {
     "elapsed": 3,
     "status": "ok",
     "timestamp": 1738300286504,
     "user": {
      "displayName": "Roman Nihal",
      "userId": "01466760799661028565"
     },
     "user_tz": -360
    },
    "id": "EG6nguLIw76Z",
    "papermill": {
     "duration": 0.595227,
     "end_time": "2025-02-24T16:04:01.256646",
     "exception": false,
     "start_time": "2025-02-24T16:04:00.661419",
     "status": "completed"
    },
    "tags": []
   },
   "outputs": [
    {
     "name": "stdout",
     "output_type": "stream",
     "text": [
      "\u001b[33mWARNING: Package(s) not found: pickle\u001b[0m\u001b[33m\r\n",
      "\u001b[0m"
     ]
    }
   ],
   "source": [
    "import pickle\n",
    "!pip show pickle --version\n",
    "pickle.dump(dtr, open('dtr.pkl', 'wb'))\n",
    "pickle.dump(transformer, open('transformer.pkl', 'wb'))"
   ]
  },
  {
   "cell_type": "code",
   "execution_count": null,
   "id": "28ea801c",
   "metadata": {
    "execution": {
     "iopub.execute_input": "2025-02-19T01:47:34.277323Z",
     "iopub.status.busy": "2025-02-19T01:47:34.276934Z",
     "iopub.status.idle": "2025-02-19T01:47:34.983323Z",
     "shell.execute_reply": "2025-02-19T01:47:34.982002Z",
     "shell.execute_reply.started": "2025-02-19T01:47:34.277290Z"
    },
    "papermill": {
     "duration": 0.015941,
     "end_time": "2025-02-24T16:04:01.289334",
     "exception": false,
     "start_time": "2025-02-24T16:04:01.273393",
     "status": "completed"
    },
    "tags": []
   },
   "outputs": [],
   "source": []
  }
 ],
 "metadata": {
  "colab": {
   "authorship_tag": "ABX9TyP7j2wta2fWLipPgsHqvzHE",
   "provenance": []
  },
  "kaggle": {
   "accelerator": "none",
   "dataSources": [
    {
     "datasetId": 1760177,
     "sourceId": 2874008,
     "sourceType": "datasetVersion"
    }
   ],
   "dockerImageVersionId": 30839,
   "isGpuEnabled": false,
   "isInternetEnabled": true,
   "language": "python",
   "sourceType": "notebook"
  },
  "kernelspec": {
   "display_name": "Python 3",
   "language": "python",
   "name": "python3"
  },
  "language_info": {
   "codemirror_mode": {
    "name": "ipython",
    "version": 3
   },
   "file_extension": ".py",
   "mimetype": "text/x-python",
   "name": "python",
   "nbconvert_exporter": "python",
   "pygments_lexer": "ipython3",
   "version": "3.10.12"
  },
  "papermill": {
   "default_parameters": {},
   "duration": 23.356642,
   "end_time": "2025-02-24T16:04:02.227318",
   "environment_variables": {},
   "exception": null,
   "input_path": "__notebook__.ipynb",
   "output_path": "__notebook__.ipynb",
   "parameters": {},
   "start_time": "2025-02-24T16:03:38.870676",
   "version": "2.6.0"
  }
 },
 "nbformat": 4,
 "nbformat_minor": 5
}
